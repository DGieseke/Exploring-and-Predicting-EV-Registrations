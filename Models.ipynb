{
 "cells": [
  {
   "cell_type": "markdown",
   "id": "51053581",
   "metadata": {},
   "source": [
    "# Models\n",
    "## Exploring and Predicting EV Registration Data\n",
    "\n",
    "Daniel Gieseke | August 2023\n",
    "\n",
    "The electric vehicle (EV) industry is booming at every level, and companies in the burgeoning industry are aiming to understand the different factors that affect EV adoption, and the geographic spread of EVs such that they can adequately prepare and market themselves.  This project aims to take in real world data on EV registrations by zip code along with several socioeconomic factors to find respective variance and correlation, and ultimately build a machine learning model that can predict EV registration by zip code; with these models we aim to understand the factors that affect EV adoption.\n",
    "\n",
    "**About this notebook**\n",
    "\n",
    "This notebook contains the machine learning models developed in conjunction with this project.  For details on EDA and data preparation, please visit my other notebooks on GitHub."
   ]
  },
  {
   "cell_type": "markdown",
   "id": "f6952ab8",
   "metadata": {},
   "source": [
    "### Importing Libraries"
   ]
  },
  {
   "cell_type": "code",
   "execution_count": 41,
   "id": "c15f29cb",
   "metadata": {},
   "outputs": [],
   "source": [
    "import pandas as pd\n",
    "import numpy as np\n",
    "import seaborn as sns\n",
    "sns.set_style(\"darkgrid\", {\"font.family\": \"Helvetica\"})\n",
    "import matplotlib.pyplot as plt\n",
    "from sklearn.model_selection import train_test_split\n",
    "from sklearn.linear_model import LinearRegression, Ridge, Lasso, LogisticRegression\n",
    "from sklearn.metrics import accuracy_score, confusion_matrix, mean_absolute_error, mean_squared_error, r2_score\n",
    "from sklearn.pipeline import Pipeline\n",
    "from sklearn.ensemble import RandomForestClassifier, RandomForestRegressor\n",
    "from sklearn.model_selection import GridSearchCV\n",
    "from sklearn.preprocessing import MinMaxScaler, StandardScaler, PolynomialFeatures\n",
    "from sklearn.tree import plot_tree\n",
    "from sklearn.metrics import ConfusionMatrixDisplay\n",
    "from uszipcode import SearchEngine\n",
    "from imblearn.over_sampling import SMOTE\n",
    "import statsmodels.api as sm\n",
    "import mpu\n",
    "import zipcodes\n",
    "import warnings\n",
    "warnings.filterwarnings(\"ignore\")"
   ]
  },
  {
   "cell_type": "markdown",
   "id": "61c95ee9",
   "metadata": {},
   "source": [
    "### Importing EV Registration Data and Performing Light Cleaning"
   ]
  },
  {
   "cell_type": "code",
   "execution_count": 3,
   "id": "4142c529",
   "metadata": {},
   "outputs": [],
   "source": [
    "# Importing Data\n",
    "df = pd.read_csv('Cleaned_EV_Reg_Data')\n",
    "\n",
    "# Dropping Unneeded Row\n",
    "df = df.drop(columns='Unnamed: 0')\n",
    "\n",
    "# Converting ZIP Column to STR\n",
    "df['ZIP Code'] = df['ZIP Code'].astype(str)"
   ]
  },
  {
   "cell_type": "code",
   "execution_count": 4,
   "id": "1ca29a17",
   "metadata": {},
   "outputs": [],
   "source": [
    "# Cleaning ZIP Column\n",
    "dirty_zips = df['ZIP Code']\n",
    "clean_zips = []\n",
    "\n",
    "for code in dirty_zips:\n",
    "    if len(code) < 5:\n",
    "        new_code = '0' + code\n",
    "        clean_zips.append(new_code)\n",
    "    else:\n",
    "        clean_zips.append(code)\n",
    "\n",
    "df['ZIP Code'] = clean_zips"
   ]
  },
  {
   "cell_type": "code",
   "execution_count": 6,
   "id": "df50ddc4",
   "metadata": {},
   "outputs": [],
   "source": [
    "# Adding State Column\n",
    "conditions = [\n",
    "    df['NY'] == 1,\n",
    "    df['NJ'] == 1,\n",
    "    df['CT'] == 1,\n",
    "]\n",
    "\n",
    "outputs = [\n",
    "    'New York', 'New Jersey', 'Connecticut'\n",
    "]"
   ]
  },
  {
   "cell_type": "code",
   "execution_count": 7,
   "id": "e44eb611",
   "metadata": {},
   "outputs": [],
   "source": [
    "df['State'] = np.select(conditions, outputs)"
   ]
  },
  {
   "cell_type": "code",
   "execution_count": 8,
   "id": "8a8011f0",
   "metadata": {},
   "outputs": [],
   "source": [
    "# Creating \"TIME\" df by Joining 2022 data\n",
    "df_2022 = pd.read_csv('Cleaned_EV_Reg_Data_2022')\n",
    "\n",
    "# Converting ZIP Column to STR\n",
    "df_2022['ZIP Code'] = df_2022['ZIP Code'].astype(str)\n",
    "\n",
    "# Cleaning ZIP Column\n",
    "dirty_zips = df_2022['ZIP Code']\n",
    "clean_zips = []\n",
    "\n",
    "for code in dirty_zips:\n",
    "    if len(code) < 5:\n",
    "        new_code = '0' + code\n",
    "        clean_zips.append(new_code)\n",
    "    else:\n",
    "        clean_zips.append(code)\n",
    "\n",
    "df_2022['ZIP Code'] = clean_zips\n",
    "\n",
    "df_time = df.merge(df_2022, on='ZIP Code', how='left')"
   ]
  },
  {
   "cell_type": "code",
   "execution_count": 9,
   "id": "d8cb7ba3",
   "metadata": {},
   "outputs": [],
   "source": [
    "# Removing Connecticut from TIME df as CT doesn't have a wide breadth of EV data from 2022\n",
    "df_time = df_time.dropna()"
   ]
  },
  {
   "cell_type": "markdown",
   "id": "4b3439d5",
   "metadata": {},
   "source": [
    "   "
   ]
  },
  {
   "cell_type": "markdown",
   "id": "6a8991f2",
   "metadata": {},
   "source": [
    "## Model 1 - Predicting Total EVs Registered in a ZIP Code - Linear Regression"
   ]
  },
  {
   "cell_type": "markdown",
   "id": "ec419b49",
   "metadata": {},
   "source": [
    "Below I am performing a linear regression using first a model from the Statsmodels.api library, then performing a train test split using the scikit-learn library.  After finding my best features in my model using my Statsmodels.api model, I continued to tune my model with scikit-learn.  Eventually I received an R2 score of .82."
   ]
  },
  {
   "cell_type": "markdown",
   "id": "cb2947fc",
   "metadata": {},
   "source": [
    "### Statsmodels.api"
   ]
  },
  {
   "cell_type": "code",
   "execution_count": 14,
   "id": "8dd959a7",
   "metadata": {},
   "outputs": [],
   "source": [
    "y = df['Vehicle Count']\n",
    "X = df[['Median Family Household Income', 'Population', 'Percent Pop. Bachelors Deg. - 35-44', \n",
    "            'high_pop', 'in_NYC', 'EV Charging Stations', 'CT', \n",
    "             'Percent Pop. Age 30-34', 'High_Income', \n",
    "           'Young_Liberal', 'Income_Liberal', 'Income_Pop', 'Ed_Income', 'NYC Suburb']]"
   ]
  },
  {
   "cell_type": "code",
   "execution_count": 15,
   "id": "756f163c",
   "metadata": {},
   "outputs": [],
   "source": [
    "model = sm.OLS(y, sm.add_constant(X))"
   ]
  },
  {
   "cell_type": "code",
   "execution_count": 16,
   "id": "b7a4ca53",
   "metadata": {},
   "outputs": [],
   "source": [
    "results = model.fit()"
   ]
  },
  {
   "cell_type": "code",
   "execution_count": 17,
   "id": "8acf861d",
   "metadata": {},
   "outputs": [
    {
     "data": {
      "text/html": [
       "<table class=\"simpletable\">\n",
       "<caption>OLS Regression Results</caption>\n",
       "<tr>\n",
       "  <th>Dep. Variable:</th>      <td>Vehicle Count</td>  <th>  R-squared:         </th> <td>   0.707</td> \n",
       "</tr>\n",
       "<tr>\n",
       "  <th>Model:</th>                   <td>OLS</td>       <th>  Adj. R-squared:    </th> <td>   0.705</td> \n",
       "</tr>\n",
       "<tr>\n",
       "  <th>Method:</th>             <td>Least Squares</td>  <th>  F-statistic:       </th> <td>   447.4</td> \n",
       "</tr>\n",
       "<tr>\n",
       "  <th>Date:</th>             <td>Tue, 25 Jul 2023</td> <th>  Prob (F-statistic):</th>  <td>  0.00</td>  \n",
       "</tr>\n",
       "<tr>\n",
       "  <th>Time:</th>                 <td>15:04:10</td>     <th>  Log-Likelihood:    </th> <td> -14913.</td> \n",
       "</tr>\n",
       "<tr>\n",
       "  <th>No. Observations:</th>      <td>  2614</td>      <th>  AIC:               </th> <td>2.986e+04</td>\n",
       "</tr>\n",
       "<tr>\n",
       "  <th>Df Residuals:</th>          <td>  2599</td>      <th>  BIC:               </th> <td>2.994e+04</td>\n",
       "</tr>\n",
       "<tr>\n",
       "  <th>Df Model:</th>              <td>    14</td>      <th>                     </th>     <td> </td>    \n",
       "</tr>\n",
       "<tr>\n",
       "  <th>Covariance Type:</th>      <td>nonrobust</td>    <th>                     </th>     <td> </td>    \n",
       "</tr>\n",
       "</table>\n",
       "<table class=\"simpletable\">\n",
       "<tr>\n",
       "                   <td></td>                      <th>coef</th>     <th>std err</th>      <th>t</th>      <th>P>|t|</th>  <th>[0.025</th>    <th>0.975]</th>  \n",
       "</tr>\n",
       "<tr>\n",
       "  <th>const</th>                               <td>  -45.5490</td> <td>    6.938</td> <td>   -6.565</td> <td> 0.000</td> <td>  -59.153</td> <td>  -31.945</td>\n",
       "</tr>\n",
       "<tr>\n",
       "  <th>Median Family Household Income</th>      <td>    0.0004</td> <td> 7.72e-05</td> <td>    5.311</td> <td> 0.000</td> <td>    0.000</td> <td>    0.001</td>\n",
       "</tr>\n",
       "<tr>\n",
       "  <th>Population</th>                          <td>    0.0011</td> <td>    0.000</td> <td>    4.234</td> <td> 0.000</td> <td>    0.001</td> <td>    0.002</td>\n",
       "</tr>\n",
       "<tr>\n",
       "  <th>Percent Pop. Bachelors Deg. - 35-44</th> <td>    0.8237</td> <td>    0.094</td> <td>    8.783</td> <td> 0.000</td> <td>    0.640</td> <td>    1.008</td>\n",
       "</tr>\n",
       "<tr>\n",
       "  <th>high_pop</th>                            <td>   56.0489</td> <td>    4.416</td> <td>   12.693</td> <td> 0.000</td> <td>   47.390</td> <td>   64.708</td>\n",
       "</tr>\n",
       "<tr>\n",
       "  <th>in_NYC</th>                              <td> -126.4879</td> <td>    6.939</td> <td>  -18.228</td> <td> 0.000</td> <td> -140.095</td> <td> -112.881</td>\n",
       "</tr>\n",
       "<tr>\n",
       "  <th>EV Charging Stations</th>                <td>    2.9784</td> <td>    0.511</td> <td>    5.825</td> <td> 0.000</td> <td>    1.976</td> <td>    3.981</td>\n",
       "</tr>\n",
       "<tr>\n",
       "  <th>CT</th>                                  <td>  -16.6581</td> <td>    4.886</td> <td>   -3.409</td> <td> 0.001</td> <td>  -26.239</td> <td>   -7.077</td>\n",
       "</tr>\n",
       "<tr>\n",
       "  <th>Percent Pop. Age 30-34</th>              <td>   -2.7091</td> <td>    0.577</td> <td>   -4.693</td> <td> 0.000</td> <td>   -3.841</td> <td>   -1.577</td>\n",
       "</tr>\n",
       "<tr>\n",
       "  <th>High_Income</th>                         <td>  -20.3448</td> <td>    8.859</td> <td>   -2.296</td> <td> 0.022</td> <td>  -37.717</td> <td>   -2.973</td>\n",
       "</tr>\n",
       "<tr>\n",
       "  <th>Young_Liberal</th>                       <td>   -3.9192</td> <td>    0.591</td> <td>   -6.630</td> <td> 0.000</td> <td>   -5.078</td> <td>   -2.760</td>\n",
       "</tr>\n",
       "<tr>\n",
       "  <th>Income_Liberal</th>                      <td>    0.0002</td> <td> 4.14e-05</td> <td>    5.807</td> <td> 0.000</td> <td>    0.000</td> <td>    0.000</td>\n",
       "</tr>\n",
       "<tr>\n",
       "  <th>Income_Pop</th>                          <td> 3.555e-08</td> <td> 3.77e-09</td> <td>    9.433</td> <td> 0.000</td> <td> 2.82e-08</td> <td> 4.29e-08</td>\n",
       "</tr>\n",
       "<tr>\n",
       "  <th>Ed_Income</th>                           <td>-3.808e-08</td> <td> 2.34e-08</td> <td>   -1.630</td> <td> 0.103</td> <td>-8.39e-08</td> <td> 7.72e-09</td>\n",
       "</tr>\n",
       "<tr>\n",
       "  <th>NYC Suburb</th>                          <td>    8.8673</td> <td>    5.276</td> <td>    1.681</td> <td> 0.093</td> <td>   -1.479</td> <td>   19.213</td>\n",
       "</tr>\n",
       "</table>\n",
       "<table class=\"simpletable\">\n",
       "<tr>\n",
       "  <th>Omnibus:</th>       <td>1027.629</td> <th>  Durbin-Watson:     </th> <td>   1.299</td>\n",
       "</tr>\n",
       "<tr>\n",
       "  <th>Prob(Omnibus):</th>  <td> 0.000</td>  <th>  Jarque-Bera (JB):  </th> <td>9496.616</td>\n",
       "</tr>\n",
       "<tr>\n",
       "  <th>Skew:</th>           <td> 1.601</td>  <th>  Prob(JB):          </th> <td>    0.00</td>\n",
       "</tr>\n",
       "<tr>\n",
       "  <th>Kurtosis:</th>       <td>11.772</td>  <th>  Cond. No.          </th> <td>1.73e+10</td>\n",
       "</tr>\n",
       "</table><br/><br/>Notes:<br/>[1] Standard Errors assume that the covariance matrix of the errors is correctly specified.<br/>[2] The condition number is large, 1.73e+10. This might indicate that there are<br/>strong multicollinearity or other numerical problems."
      ],
      "text/latex": [
       "\\begin{center}\n",
       "\\begin{tabular}{lclc}\n",
       "\\toprule\n",
       "\\textbf{Dep. Variable:}                      &  Vehicle Count   & \\textbf{  R-squared:         } &     0.707   \\\\\n",
       "\\textbf{Model:}                              &       OLS        & \\textbf{  Adj. R-squared:    } &     0.705   \\\\\n",
       "\\textbf{Method:}                             &  Least Squares   & \\textbf{  F-statistic:       } &     447.4   \\\\\n",
       "\\textbf{Date:}                               & Tue, 25 Jul 2023 & \\textbf{  Prob (F-statistic):} &     0.00    \\\\\n",
       "\\textbf{Time:}                               &     15:04:10     & \\textbf{  Log-Likelihood:    } &   -14913.   \\\\\n",
       "\\textbf{No. Observations:}                   &        2614      & \\textbf{  AIC:               } & 2.986e+04   \\\\\n",
       "\\textbf{Df Residuals:}                       &        2599      & \\textbf{  BIC:               } & 2.994e+04   \\\\\n",
       "\\textbf{Df Model:}                           &          14      & \\textbf{                     } &             \\\\\n",
       "\\textbf{Covariance Type:}                    &    nonrobust     & \\textbf{                     } &             \\\\\n",
       "\\bottomrule\n",
       "\\end{tabular}\n",
       "\\begin{tabular}{lcccccc}\n",
       "                                             & \\textbf{coef} & \\textbf{std err} & \\textbf{t} & \\textbf{P$> |$t$|$} & \\textbf{[0.025} & \\textbf{0.975]}  \\\\\n",
       "\\midrule\n",
       "\\textbf{const}                               &     -45.5490  &        6.938     &    -6.565  &         0.000        &      -59.153    &      -31.945     \\\\\n",
       "\\textbf{Median Family Household Income}      &       0.0004  &     7.72e-05     &     5.311  &         0.000        &        0.000    &        0.001     \\\\\n",
       "\\textbf{Population}                          &       0.0011  &        0.000     &     4.234  &         0.000        &        0.001    &        0.002     \\\\\n",
       "\\textbf{Percent Pop. Bachelors Deg. - 35-44} &       0.8237  &        0.094     &     8.783  &         0.000        &        0.640    &        1.008     \\\\\n",
       "\\textbf{high\\_pop}                           &      56.0489  &        4.416     &    12.693  &         0.000        &       47.390    &       64.708     \\\\\n",
       "\\textbf{in\\_NYC}                             &    -126.4879  &        6.939     &   -18.228  &         0.000        &     -140.095    &     -112.881     \\\\\n",
       "\\textbf{EV Charging Stations}                &       2.9784  &        0.511     &     5.825  &         0.000        &        1.976    &        3.981     \\\\\n",
       "\\textbf{CT}                                  &     -16.6581  &        4.886     &    -3.409  &         0.001        &      -26.239    &       -7.077     \\\\\n",
       "\\textbf{Percent Pop. Age 30-34}              &      -2.7091  &        0.577     &    -4.693  &         0.000        &       -3.841    &       -1.577     \\\\\n",
       "\\textbf{High\\_Income}                        &     -20.3448  &        8.859     &    -2.296  &         0.022        &      -37.717    &       -2.973     \\\\\n",
       "\\textbf{Young\\_Liberal}                      &      -3.9192  &        0.591     &    -6.630  &         0.000        &       -5.078    &       -2.760     \\\\\n",
       "\\textbf{Income\\_Liberal}                     &       0.0002  &     4.14e-05     &     5.807  &         0.000        &        0.000    &        0.000     \\\\\n",
       "\\textbf{Income\\_Pop}                         &    3.555e-08  &     3.77e-09     &     9.433  &         0.000        &     2.82e-08    &     4.29e-08     \\\\\n",
       "\\textbf{Ed\\_Income}                          &   -3.808e-08  &     2.34e-08     &    -1.630  &         0.103        &    -8.39e-08    &     7.72e-09     \\\\\n",
       "\\textbf{NYC Suburb}                          &       8.8673  &        5.276     &     1.681  &         0.093        &       -1.479    &       19.213     \\\\\n",
       "\\bottomrule\n",
       "\\end{tabular}\n",
       "\\begin{tabular}{lclc}\n",
       "\\textbf{Omnibus:}       & 1027.629 & \\textbf{  Durbin-Watson:     } &    1.299  \\\\\n",
       "\\textbf{Prob(Omnibus):} &   0.000  & \\textbf{  Jarque-Bera (JB):  } & 9496.616  \\\\\n",
       "\\textbf{Skew:}          &   1.601  & \\textbf{  Prob(JB):          } &     0.00  \\\\\n",
       "\\textbf{Kurtosis:}      &  11.772  & \\textbf{  Cond. No.          } & 1.73e+10  \\\\\n",
       "\\bottomrule\n",
       "\\end{tabular}\n",
       "%\\caption{OLS Regression Results}\n",
       "\\end{center}\n",
       "\n",
       "Notes: \\newline\n",
       " [1] Standard Errors assume that the covariance matrix of the errors is correctly specified. \\newline\n",
       " [2] The condition number is large, 1.73e+10. This might indicate that there are \\newline\n",
       " strong multicollinearity or other numerical problems."
      ],
      "text/plain": [
       "<class 'statsmodels.iolib.summary.Summary'>\n",
       "\"\"\"\n",
       "                            OLS Regression Results                            \n",
       "==============================================================================\n",
       "Dep. Variable:          Vehicle Count   R-squared:                       0.707\n",
       "Model:                            OLS   Adj. R-squared:                  0.705\n",
       "Method:                 Least Squares   F-statistic:                     447.4\n",
       "Date:                Tue, 25 Jul 2023   Prob (F-statistic):               0.00\n",
       "Time:                        15:04:10   Log-Likelihood:                -14913.\n",
       "No. Observations:                2614   AIC:                         2.986e+04\n",
       "Df Residuals:                    2599   BIC:                         2.994e+04\n",
       "Df Model:                          14                                         \n",
       "Covariance Type:            nonrobust                                         \n",
       "=======================================================================================================\n",
       "                                          coef    std err          t      P>|t|      [0.025      0.975]\n",
       "-------------------------------------------------------------------------------------------------------\n",
       "const                                 -45.5490      6.938     -6.565      0.000     -59.153     -31.945\n",
       "Median Family Household Income          0.0004   7.72e-05      5.311      0.000       0.000       0.001\n",
       "Population                              0.0011      0.000      4.234      0.000       0.001       0.002\n",
       "Percent Pop. Bachelors Deg. - 35-44     0.8237      0.094      8.783      0.000       0.640       1.008\n",
       "high_pop                               56.0489      4.416     12.693      0.000      47.390      64.708\n",
       "in_NYC                               -126.4879      6.939    -18.228      0.000    -140.095    -112.881\n",
       "EV Charging Stations                    2.9784      0.511      5.825      0.000       1.976       3.981\n",
       "CT                                    -16.6581      4.886     -3.409      0.001     -26.239      -7.077\n",
       "Percent Pop. Age 30-34                 -2.7091      0.577     -4.693      0.000      -3.841      -1.577\n",
       "High_Income                           -20.3448      8.859     -2.296      0.022     -37.717      -2.973\n",
       "Young_Liberal                          -3.9192      0.591     -6.630      0.000      -5.078      -2.760\n",
       "Income_Liberal                          0.0002   4.14e-05      5.807      0.000       0.000       0.000\n",
       "Income_Pop                           3.555e-08   3.77e-09      9.433      0.000    2.82e-08    4.29e-08\n",
       "Ed_Income                           -3.808e-08   2.34e-08     -1.630      0.103   -8.39e-08    7.72e-09\n",
       "NYC Suburb                              8.8673      5.276      1.681      0.093      -1.479      19.213\n",
       "==============================================================================\n",
       "Omnibus:                     1027.629   Durbin-Watson:                   1.299\n",
       "Prob(Omnibus):                  0.000   Jarque-Bera (JB):             9496.616\n",
       "Skew:                           1.601   Prob(JB):                         0.00\n",
       "Kurtosis:                      11.772   Cond. No.                     1.73e+10\n",
       "==============================================================================\n",
       "\n",
       "Notes:\n",
       "[1] Standard Errors assume that the covariance matrix of the errors is correctly specified.\n",
       "[2] The condition number is large, 1.73e+10. This might indicate that there are\n",
       "strong multicollinearity or other numerical problems.\n",
       "\"\"\""
      ]
     },
     "execution_count": 17,
     "metadata": {},
     "output_type": "execute_result"
    }
   ],
   "source": [
    "results.summary()"
   ]
  },
  {
   "cell_type": "markdown",
   "id": "2cc939ec",
   "metadata": {},
   "source": [
    "### scikit-learn"
   ]
  },
  {
   "cell_type": "code",
   "execution_count": 19,
   "id": "ca1b1820",
   "metadata": {},
   "outputs": [],
   "source": [
    "y = df['Vehicle Count']\n",
    "X = df[['Median Family Household Income', 'Population', 'Percent Pop. Bachelors Deg. - 35-44', \n",
    "            'dist_NYC', 'high_pop', 'voted for joe', 'in_NYC', 'EV Charging Stations', 'CT', \n",
    "            'Percent Pop. Age 25-29', 'Percent Pop. Age 30-34', 'Percent Pop. Age 35-39', 'High_Income', \n",
    "           'Young_Liberal', 'Income_Liberal', 'Income_Pop', 'Ed_Income', 'NYC Suburb']]\n",
    "\n",
    "X_train, X_test, y_train, y_test = train_test_split(X, y, test_size=.3, random_state=42)"
   ]
  },
  {
   "cell_type": "code",
   "execution_count": 20,
   "id": "e01a04e2",
   "metadata": {},
   "outputs": [],
   "source": [
    "ss = StandardScaler()\n",
    "\n",
    "ss.fit(X_train)\n",
    "X_standardized_train = ss.transform(X_train)\n",
    "X_standardized_test = ss.transform(X_test)"
   ]
  },
  {
   "cell_type": "code",
   "execution_count": 23,
   "id": "ce768bcf",
   "metadata": {},
   "outputs": [
    {
     "data": {
      "text/plain": [
       "0.7092233753974573"
      ]
     },
     "execution_count": 23,
     "metadata": {},
     "output_type": "execute_result"
    }
   ],
   "source": [
    "lr_raw = LinearRegression()\n",
    "lr_raw.fit(X_standardized_train, y_train)\n",
    "\n",
    "# Below is the R2 of my model - as you can see, it is similar to my model built using \"Statsmodels.api\"\n",
    "lr_raw.score(X_standardized_train, y_train)"
   ]
  },
  {
   "cell_type": "code",
   "execution_count": 22,
   "id": "afa731b6",
   "metadata": {},
   "outputs": [
    {
     "data": {
      "text/plain": [
       "Median Family Household Income         19.449143\n",
       "Population                             22.448374\n",
       "Percent Pop. Bachelors Deg. - 35-44    21.438621\n",
       "dist_NYC                                1.014338\n",
       "high_pop                               26.029391\n",
       "voted for joe                          -0.074234\n",
       "in_NYC                                -35.641175\n",
       "EV Charging Stations                    7.784948\n",
       "CT                                     -4.214382\n",
       "Percent Pop. Age 25-29                 -3.076848\n",
       "Percent Pop. Age 30-34                 -7.671146\n",
       "Percent Pop. Age 35-39                  2.261683\n",
       "High_Income                            -9.538745\n",
       "Young_Liberal                         -12.353849\n",
       "Income_Liberal                         12.534051\n",
       "Income_Pop                             80.251302\n",
       "Ed_Income                             -14.045268\n",
       "NYC Suburb                              4.048217\n",
       "dtype: float64"
      ]
     },
     "execution_count": 22,
     "metadata": {},
     "output_type": "execute_result"
    }
   ],
   "source": [
    "# Below are the coefficients of my scaled data - this tells me the most important features to my model\n",
    "pd.Series(lr_raw.coef_, index = X.columns)"
   ]
  },
  {
   "cell_type": "code",
   "execution_count": 26,
   "id": "5a10031b",
   "metadata": {},
   "outputs": [],
   "source": [
    "# Instantiating and Fitting a MinMaxScaler\n",
    "scale = MinMaxScaler()\n",
    "X_train_transformed = scale.fit_transform(X_train)\n",
    "X_test_transformed = scale.transform(X_test)"
   ]
  },
  {
   "cell_type": "code",
   "execution_count": 27,
   "id": "5cbc5bfb",
   "metadata": {},
   "outputs": [
    {
     "data": {
      "text/html": [
       "<style>#sk-container-id-1 {color: black;}#sk-container-id-1 pre{padding: 0;}#sk-container-id-1 div.sk-toggleable {background-color: white;}#sk-container-id-1 label.sk-toggleable__label {cursor: pointer;display: block;width: 100%;margin-bottom: 0;padding: 0.3em;box-sizing: border-box;text-align: center;}#sk-container-id-1 label.sk-toggleable__label-arrow:before {content: \"▸\";float: left;margin-right: 0.25em;color: #696969;}#sk-container-id-1 label.sk-toggleable__label-arrow:hover:before {color: black;}#sk-container-id-1 div.sk-estimator:hover label.sk-toggleable__label-arrow:before {color: black;}#sk-container-id-1 div.sk-toggleable__content {max-height: 0;max-width: 0;overflow: hidden;text-align: left;background-color: #f0f8ff;}#sk-container-id-1 div.sk-toggleable__content pre {margin: 0.2em;color: black;border-radius: 0.25em;background-color: #f0f8ff;}#sk-container-id-1 input.sk-toggleable__control:checked~div.sk-toggleable__content {max-height: 200px;max-width: 100%;overflow: auto;}#sk-container-id-1 input.sk-toggleable__control:checked~label.sk-toggleable__label-arrow:before {content: \"▾\";}#sk-container-id-1 div.sk-estimator input.sk-toggleable__control:checked~label.sk-toggleable__label {background-color: #d4ebff;}#sk-container-id-1 div.sk-label input.sk-toggleable__control:checked~label.sk-toggleable__label {background-color: #d4ebff;}#sk-container-id-1 input.sk-hidden--visually {border: 0;clip: rect(1px 1px 1px 1px);clip: rect(1px, 1px, 1px, 1px);height: 1px;margin: -1px;overflow: hidden;padding: 0;position: absolute;width: 1px;}#sk-container-id-1 div.sk-estimator {font-family: monospace;background-color: #f0f8ff;border: 1px dotted black;border-radius: 0.25em;box-sizing: border-box;margin-bottom: 0.5em;}#sk-container-id-1 div.sk-estimator:hover {background-color: #d4ebff;}#sk-container-id-1 div.sk-parallel-item::after {content: \"\";width: 100%;border-bottom: 1px solid gray;flex-grow: 1;}#sk-container-id-1 div.sk-label:hover label.sk-toggleable__label {background-color: #d4ebff;}#sk-container-id-1 div.sk-serial::before {content: \"\";position: absolute;border-left: 1px solid gray;box-sizing: border-box;top: 0;bottom: 0;left: 50%;z-index: 0;}#sk-container-id-1 div.sk-serial {display: flex;flex-direction: column;align-items: center;background-color: white;padding-right: 0.2em;padding-left: 0.2em;position: relative;}#sk-container-id-1 div.sk-item {position: relative;z-index: 1;}#sk-container-id-1 div.sk-parallel {display: flex;align-items: stretch;justify-content: center;background-color: white;position: relative;}#sk-container-id-1 div.sk-item::before, #sk-container-id-1 div.sk-parallel-item::before {content: \"\";position: absolute;border-left: 1px solid gray;box-sizing: border-box;top: 0;bottom: 0;left: 50%;z-index: -1;}#sk-container-id-1 div.sk-parallel-item {display: flex;flex-direction: column;z-index: 1;position: relative;background-color: white;}#sk-container-id-1 div.sk-parallel-item:first-child::after {align-self: flex-end;width: 50%;}#sk-container-id-1 div.sk-parallel-item:last-child::after {align-self: flex-start;width: 50%;}#sk-container-id-1 div.sk-parallel-item:only-child::after {width: 0;}#sk-container-id-1 div.sk-dashed-wrapped {border: 1px dashed gray;margin: 0 0.4em 0.5em 0.4em;box-sizing: border-box;padding-bottom: 0.4em;background-color: white;}#sk-container-id-1 div.sk-label label {font-family: monospace;font-weight: bold;display: inline-block;line-height: 1.2em;}#sk-container-id-1 div.sk-label-container {text-align: center;}#sk-container-id-1 div.sk-container {/* jupyter's `normalize.less` sets `[hidden] { display: none; }` but bootstrap.min.css set `[hidden] { display: none !important; }` so we also need the `!important` here to be able to override the default hidden behavior on the sphinx rendered scikit-learn.org. See: https://github.com/scikit-learn/scikit-learn/issues/21755 */display: inline-block !important;position: relative;}#sk-container-id-1 div.sk-text-repr-fallback {display: none;}</style><div id=\"sk-container-id-1\" class=\"sk-top-container\"><div class=\"sk-text-repr-fallback\"><pre>LinearRegression()</pre><b>In a Jupyter environment, please rerun this cell to show the HTML representation or trust the notebook. <br />On GitHub, the HTML representation is unable to render, please try loading this page with nbviewer.org.</b></div><div class=\"sk-container\" hidden><div class=\"sk-item\"><div class=\"sk-estimator sk-toggleable\"><input class=\"sk-toggleable__control sk-hidden--visually\" id=\"sk-estimator-id-1\" type=\"checkbox\" checked><label for=\"sk-estimator-id-1\" class=\"sk-toggleable__label sk-toggleable__label-arrow\">LinearRegression</label><div class=\"sk-toggleable__content\"><pre>LinearRegression()</pre></div></div></div></div></div>"
      ],
      "text/plain": [
       "LinearRegression()"
      ]
     },
     "execution_count": 27,
     "metadata": {},
     "output_type": "execute_result"
    }
   ],
   "source": [
    "# Instantiating a ridge, lasso and regular linear regression model  \n",
    "# Note that in scikit-learn, the regularization parameter is denoted by alpha (and not lambda)\n",
    "ridge = Ridge(alpha=0.5)\n",
    "ridge.fit(X_train_transformed, y_train)\n",
    "\n",
    "lasso = Lasso(alpha=0.5)\n",
    "lasso.fit(X_train_transformed, y_train)\n",
    "\n",
    "lin = LinearRegression()\n",
    "lin.fit(X_train_transformed, y_train)"
   ]
  },
  {
   "cell_type": "code",
   "execution_count": 28,
   "id": "c4e505fb",
   "metadata": {},
   "outputs": [
    {
     "name": "stdout",
     "output_type": "stream",
     "text": [
      "Train Error Polynomial Ridge Model 2518.052701790818\n",
      "Test Error Polynomial Ridge Model 3202.7046699993016\n",
      "\n",
      "\n",
      "Train Error Polynomial Lasso Model 3641.34295669839\n",
      "Test Error Polynomial Lasso Model 3897.707155345235\n",
      "\n",
      "\n",
      "Train Error Unpenalized Polynomial Model 2224.428525627668\n",
      "Test Error Unpenalized Polynomial Model 3534.6145096645973\n",
      "\n",
      "\n",
      "Polynomial Ridge Parameter Coefficients: 187 non-zero coefficient(s) and 3 zeroed-out coefficient(s)\n",
      "Polynomial Lasso Parameter Coefficients: 22 non-zero coefficient(s) and 168 zeroed-out coefficient(s)\n",
      "Polynomial Model Parameter Coefficients: 190 non-zero coefficient(s) and 0 zeroed-out coefficient(s)\n"
     ]
    }
   ],
   "source": [
    "# Instantiating and Fitting Polynomial Features\n",
    "poly = PolynomialFeatures(degree=2)\n",
    "X_train_poly = poly.fit_transform(X_train)\n",
    "X_test_poly = poly.transform(X_test)\n",
    "\n",
    "X_train_transformed = scale.fit_transform(X_train_poly)\n",
    "X_test_transformed = scale.transform(X_test_poly)\n",
    "\n",
    "# Fitting the models\n",
    "ridge.fit(X_train_transformed, y_train)\n",
    "lasso.fit(X_train_transformed, y_train)\n",
    "lin.fit(X_train_transformed, y_train)\n",
    "\n",
    "# Generating predictions\n",
    "y_h_ridge_train = ridge.predict(X_train_transformed)\n",
    "y_h_ridge_test = ridge.predict(X_test_transformed)\n",
    "y_h_lasso_train = lasso.predict(X_train_transformed)\n",
    "y_h_lasso_test = lasso.predict(X_test_transformed)\n",
    "y_h_lin_train = lin.predict(X_train_transformed)\n",
    "y_h_lin_test = lin.predict(X_test_transformed)\n",
    "\n",
    "# Displaying results\n",
    "print('Train Error Polynomial Ridge Model', mean_squared_error(y_train, y_h_ridge_train))\n",
    "print('Test Error Polynomial Ridge Model', mean_squared_error(y_test, y_h_ridge_test))\n",
    "print('\\n')\n",
    "print('Train Error Polynomial Lasso Model', mean_squared_error(y_train, y_h_lasso_train))\n",
    "print('Test Error Polynomial Lasso Model', mean_squared_error(y_test, y_h_lasso_test))\n",
    "print('\\n')\n",
    "print('Train Error Unpenalized Polynomial Model', mean_squared_error(y_train, y_h_lin_train))\n",
    "print('Test Error Unpenalized Polynomial Model', mean_squared_error(y_test, y_h_lin_test))\n",
    "print('\\n')\n",
    "print('Polynomial Ridge Parameter Coefficients:', len(ridge.coef_[ridge.coef_ != 0]), \n",
    "      'non-zero coefficient(s) and', len(ridge.coef_[ridge.coef_ == 0]), 'zeroed-out coefficient(s)')\n",
    "print('Polynomial Lasso Parameter Coefficients:',  len(lasso.coef_[lasso.coef_ != 0]), \n",
    "      'non-zero coefficient(s) and', len(lasso.coef_[lasso.coef_ == 0]), 'zeroed-out coefficient(s)')\n",
    "print('Polynomial Model Parameter Coefficients:',  len(lin.coef_[lin.coef_ != 0]), \n",
    "      'non-zero coefficient(s) and', len(lin.coef_[lin.coef_ == 0]), 'zeroed-out coefficient(s)')"
   ]
  },
  {
   "cell_type": "code",
   "execution_count": 30,
   "id": "62f10f3c",
   "metadata": {},
   "outputs": [
    {
     "name": "stdout",
     "output_type": "stream",
     "text": [
      "0.8232544755774512\n"
     ]
    }
   ],
   "source": [
    "# Printing the R2 score for my model with Polynomial features\n",
    "r2 = r2_score(y_true = y_test, y_pred = y_h_ridge_test)\n",
    "print(r2)"
   ]
  },
  {
   "cell_type": "markdown",
   "id": "eff2b449",
   "metadata": {},
   "source": [
    "   "
   ]
  },
  {
   "cell_type": "markdown",
   "id": "7b4b6e43",
   "metadata": {},
   "source": [
    "## Model 2 - Predicting EVs per Capita by ZIP Code - Categorical Classifier"
   ]
  },
  {
   "cell_type": "markdown",
   "id": "0ae828b7",
   "metadata": {},
   "source": [
    "This second simple model is a categorical classifier where, instead of predicting the total number of EV registrations in a zip code, I am predicting the number of EV registrations per capita (number of EVs per 100,000 people).  The target is separated into three categories: (1) if a zip code has a below-average number of EVs per 100k, (2) if a zip code has an above average number of EVs per 100k, and (3) if a zip code has a very high number of EVs per capita.  I determined these targets after analyzing the spread of my target variable below."
   ]
  },
  {
   "cell_type": "code",
   "execution_count": 34,
   "id": "bc1a04d6",
   "metadata": {},
   "outputs": [
    {
     "name": "stdout",
     "output_type": "stream",
     "text": [
      "Median EVs per capita in Data Set: 606.3505135880629\n"
     ]
    },
    {
     "data": {
      "image/png": "[encoded data removed]",
      "text/plain": [
       "<Figure size 640x480 with 1 Axes>"
      ]
     },
     "metadata": {},
     "output_type": "display_data"
    }
   ],
   "source": [
    "df['EVs per capita'].hist(bins=100).set(Title='EVs per Capita Across Zip Codes')\n",
    "print(\"Median EVs per capita in Data Set:\", df['EVs per capita'].median());"
   ]
  },
  {
   "cell_type": "code",
   "execution_count": 36,
   "id": "12afdc55",
   "metadata": {},
   "outputs": [],
   "source": [
    "y = df['High EVs Per Capita']\n",
    "X = df[['Median Family Household Income', 'Population', 'Percent Pop. Bachelors Deg. - 35-44', \n",
    "            'dist_NYC', 'high_pop', 'voted for joe', 'in_NYC', 'EV Charging Stations', 'NY', 'CT', 'High_Income', \n",
    "           'Young_Liberal', 'Income_Liberal', 'Income_Pop', 'Ed_Income', 'NYC Suburb']]"
   ]
  },
  {
   "cell_type": "code",
   "execution_count": 37,
   "id": "73c9c44f",
   "metadata": {},
   "outputs": [],
   "source": [
    "X_train, X_test, y_train, y_test = train_test_split(X, y, test_size=.3, random_state=42)"
   ]
  },
  {
   "cell_type": "code",
   "execution_count": 38,
   "id": "80163482",
   "metadata": {},
   "outputs": [],
   "source": [
    "# Build a pipeline with StandardScaler and RandomForestClassifier\n",
    "scaled_pipeline_2 = Pipeline([('scaler', StandardScaler()), ('RF', RandomForestClassifier(random_state = 42))])"
   ]
  },
  {
   "cell_type": "code",
   "execution_count": 39,
   "id": "1fb82d1e",
   "metadata": {},
   "outputs": [
    {
     "name": "stdout",
     "output_type": "stream",
     "text": [
      "Accuracy Score of Training Data: 1.0\n",
      "Accuracy Score of Test Data: 0.8191082802547771\n"
     ]
    }
   ],
   "source": [
    "# Fit the training data to pipeline\n",
    "scaled_pipeline_2.fit(X_train, y_train)\n",
    "\n",
    "# Print the accuracy on test set\n",
    "print(\"Accuracy Score of Training Data:\", scaled_pipeline_2.score(X_train, y_train))\n",
    "print(\"Accuracy Score of Test Data:\", scaled_pipeline_2.score(X_test, y_test))"
   ]
  },
  {
   "cell_type": "code",
   "execution_count": 44,
   "id": "395d11b6",
   "metadata": {},
   "outputs": [
    {
     "data": {
      "image/png": "[encoded data removed]",
      "text/plain": [
       "<Figure size 800x800 with 2 Axes>"
      ]
     },
     "metadata": {},
     "output_type": "display_data"
    }
   ],
   "source": [
    "fig, ax = plt.subplots(figsize=(8,8))\n",
    "plt.grid(False)\n",
    "ConfusionMatrixDisplay.from_estimator(scaled_pipeline_2, X_test, y_test, ax=ax, cmap=\"cividis\");"
   ]
  },
  {
   "cell_type": "code",
   "execution_count": 45,
   "id": "2c0ad03e",
   "metadata": {},
   "outputs": [
    {
     "data": {
      "text/plain": [
       "[('Median Family Household Income', 0.20649274003812393),\n",
       " ('Population', 0.09299206254732802),\n",
       " ('Percent Pop. Bachelors Deg. - 35-44', 0.1739104202289781),\n",
       " ('dist_NYC', 0.10180314956192542),\n",
       " ('high_pop', 0.007649452446124421),\n",
       " ('voted for joe', 0.005909776136349354),\n",
       " ('in_NYC', 0.019476381183899313),\n",
       " ('EV Charging Stations', 0.027296840034245467),\n",
       " ('NY', 0.013270201236316831),\n",
       " ('CT', 0.005256044570709494),\n",
       " ('High_Income', 0.014717199388484169),\n",
       " ('Young_Liberal', 0.05157258389232686),\n",
       " ('Income_Liberal', 0.10299090947701771),\n",
       " ('Income_Pop', 0.08067121110572131),\n",
       " ('Ed_Income', 0.08077032035907397),\n",
       " ('NYC Suburb', 0.015220707793375522)]"
      ]
     },
     "execution_count": 45,
     "metadata": {},
     "output_type": "execute_result"
    }
   ],
   "source": [
    "# Finding Feature Importance from Our Random Forest Model\n",
    "importances = scaled_pipeline_2.named_steps['RF'].feature_importances_\n",
    "\n",
    "# Creating List of Tuples with Feature Names and Importances\n",
    "feature_importances = [(feature, importance) for feature, importance in zip(X.columns, importances)]\n",
    "feature_importances"
   ]
  },
  {
   "cell_type": "markdown",
   "id": "1a0fe703",
   "metadata": {},
   "source": [
    "   "
   ]
  },
  {
   "cell_type": "markdown",
   "id": "7a4632e8",
   "metadata": {},
   "source": [
    "## Model 3 - Predicting Rise EVs per Capita by ZIP Code in 2022 - Linear Regression"
   ]
  },
  {
   "cell_type": "markdown",
   "id": "585949a3",
   "metadata": {},
   "source": [
    "My last model predicts the rise of EVs per capita by ZIP code in 2022.  Historically there has been a trend of early adoption of EV by wealthier individuals, by limiting this target to EV adoption in 2022, we are aiming to see if median family household income is still the most important factor that leads to EV adoption, or if other factors are now at play."
   ]
  },
  {
   "cell_type": "code",
   "execution_count": 47,
   "id": "da2ad411",
   "metadata": {},
   "outputs": [],
   "source": [
    "df_time['EVs Added in 2022'] = df_time['Vehicle Count_x'] - df_time['Vehicle Count_y']"
   ]
  },
  {
   "cell_type": "code",
   "execution_count": 68,
   "id": "84f6b8b1",
   "metadata": {},
   "outputs": [],
   "source": [
    "y = df_time['EVs Added in 2022']\n",
    "X = df_time[['Median Family Household Income', 'Population', 'Percent Pop. Bachelors Deg. - 35-44', \n",
    "            'dist_NYC', 'high_pop', 'voted for joe', 'in_NYC', 'EV Charging Stations',\n",
    "            'Percent Pop. Age 25-29', 'Percent Pop. Age 30-34', 'Percent Pop. Age 35-39', 'High_Income', \n",
    "           'Young_Liberal', 'Income_Liberal', 'Income_Pop', 'Ed_Income', 'NYC Suburb']]"
   ]
  },
  {
   "cell_type": "code",
   "execution_count": 69,
   "id": "ee4c2160",
   "metadata": {},
   "outputs": [],
   "source": [
    "model = sm.OLS(y, sm.add_constant(X))"
   ]
  },
  {
   "cell_type": "code",
   "execution_count": 70,
   "id": "0931fff1",
   "metadata": {},
   "outputs": [],
   "source": [
    "results = model.fit()"
   ]
  },
  {
   "cell_type": "code",
   "execution_count": 71,
   "id": "569983df",
   "metadata": {},
   "outputs": [
    {
     "data": {
      "text/html": [
       "<table class=\"simpletable\">\n",
       "<caption>OLS Regression Results</caption>\n",
       "<tr>\n",
       "  <th>Dep. Variable:</th>    <td>EVs Added in 2022</td> <th>  R-squared:         </th> <td>   0.590</td> \n",
       "</tr>\n",
       "<tr>\n",
       "  <th>Model:</th>                   <td>OLS</td>        <th>  Adj. R-squared:    </th> <td>   0.588</td> \n",
       "</tr>\n",
       "<tr>\n",
       "  <th>Method:</th>             <td>Least Squares</td>   <th>  F-statistic:       </th> <td>   241.2</td> \n",
       "</tr>\n",
       "<tr>\n",
       "  <th>Date:</th>             <td>Tue, 25 Jul 2023</td>  <th>  Prob (F-statistic):</th>  <td>  0.00</td>  \n",
       "</tr>\n",
       "<tr>\n",
       "  <th>Time:</th>                 <td>15:51:48</td>      <th>  Log-Likelihood:    </th> <td> -13452.</td> \n",
       "</tr>\n",
       "<tr>\n",
       "  <th>No. Observations:</th>      <td>  2862</td>       <th>  AIC:               </th> <td>2.694e+04</td>\n",
       "</tr>\n",
       "<tr>\n",
       "  <th>Df Residuals:</th>          <td>  2844</td>       <th>  BIC:               </th> <td>2.705e+04</td>\n",
       "</tr>\n",
       "<tr>\n",
       "  <th>Df Model:</th>              <td>    17</td>       <th>                     </th>     <td> </td>    \n",
       "</tr>\n",
       "<tr>\n",
       "  <th>Covariance Type:</th>      <td>nonrobust</td>     <th>                     </th>     <td> </td>    \n",
       "</tr>\n",
       "</table>\n",
       "<table class=\"simpletable\">\n",
       "<tr>\n",
       "                   <td></td>                      <th>coef</th>     <th>std err</th>      <th>t</th>      <th>P>|t|</th>  <th>[0.025</th>    <th>0.975]</th>  \n",
       "</tr>\n",
       "<tr>\n",
       "  <th>const</th>                               <td>  -10.0415</td> <td>    4.157</td> <td>   -2.415</td> <td> 0.016</td> <td>  -18.193</td> <td>   -1.890</td>\n",
       "</tr>\n",
       "<tr>\n",
       "  <th>Median Family Household Income</th>      <td>    0.0001</td> <td> 3.24e-05</td> <td>    3.296</td> <td> 0.001</td> <td> 4.33e-05</td> <td>    0.000</td>\n",
       "</tr>\n",
       "<tr>\n",
       "  <th>Population</th>                          <td>    0.0006</td> <td> 8.75e-05</td> <td>    6.897</td> <td> 0.000</td> <td>    0.000</td> <td>    0.001</td>\n",
       "</tr>\n",
       "<tr>\n",
       "  <th>Percent Pop. Bachelors Deg. - 35-44</th> <td>    0.3222</td> <td>    0.035</td> <td>    9.285</td> <td> 0.000</td> <td>    0.254</td> <td>    0.390</td>\n",
       "</tr>\n",
       "<tr>\n",
       "  <th>dist_NYC</th>                            <td>   -0.0171</td> <td>    0.005</td> <td>   -3.745</td> <td> 0.000</td> <td>   -0.026</td> <td>   -0.008</td>\n",
       "</tr>\n",
       "<tr>\n",
       "  <th>high_pop</th>                            <td>   15.0565</td> <td>    1.533</td> <td>    9.821</td> <td> 0.000</td> <td>   12.050</td> <td>   18.063</td>\n",
       "</tr>\n",
       "<tr>\n",
       "  <th>voted for joe</th>                       <td>    3.2707</td> <td>    4.198</td> <td>    0.779</td> <td> 0.436</td> <td>   -4.961</td> <td>   11.502</td>\n",
       "</tr>\n",
       "<tr>\n",
       "  <th>in_NYC</th>                              <td>  -37.1297</td> <td>    2.316</td> <td>  -16.033</td> <td> 0.000</td> <td>  -41.671</td> <td>  -32.589</td>\n",
       "</tr>\n",
       "<tr>\n",
       "  <th>EV Charging Stations</th>                <td>    0.5314</td> <td>    0.149</td> <td>    3.570</td> <td> 0.000</td> <td>    0.240</td> <td>    0.823</td>\n",
       "</tr>\n",
       "<tr>\n",
       "  <th>Percent Pop. Age 25-29</th>              <td>   -0.4381</td> <td>    0.283</td> <td>   -1.549</td> <td> 0.122</td> <td>   -0.993</td> <td>    0.117</td>\n",
       "</tr>\n",
       "<tr>\n",
       "  <th>Percent Pop. Age 30-34</th>              <td>   -0.9070</td> <td>    0.211</td> <td>   -4.298</td> <td> 0.000</td> <td>   -1.321</td> <td>   -0.493</td>\n",
       "</tr>\n",
       "<tr>\n",
       "  <th>Percent Pop. Age 35-39</th>              <td>    0.3219</td> <td>    0.220</td> <td>    1.463</td> <td> 0.144</td> <td>   -0.110</td> <td>    0.753</td>\n",
       "</tr>\n",
       "<tr>\n",
       "  <th>High_Income</th>                         <td>  -16.9027</td> <td>    3.158</td> <td>   -5.352</td> <td> 0.000</td> <td>  -23.095</td> <td>  -10.710</td>\n",
       "</tr>\n",
       "<tr>\n",
       "  <th>Young_Liberal</th>                       <td>   -1.2321</td> <td>    0.367</td> <td>   -3.355</td> <td> 0.001</td> <td>   -1.952</td> <td>   -0.512</td>\n",
       "</tr>\n",
       "<tr>\n",
       "  <th>Income_Liberal</th>                      <td> 6.046e-05</td> <td> 3.01e-05</td> <td>    2.008</td> <td> 0.045</td> <td> 1.42e-06</td> <td>    0.000</td>\n",
       "</tr>\n",
       "<tr>\n",
       "  <th>Income_Pop</th>                          <td> 6.694e-09</td> <td> 1.18e-09</td> <td>    5.650</td> <td> 0.000</td> <td> 4.37e-09</td> <td> 9.02e-09</td>\n",
       "</tr>\n",
       "<tr>\n",
       "  <th>Ed_Income</th>                           <td> -7.21e-09</td> <td>  7.3e-09</td> <td>   -0.988</td> <td> 0.323</td> <td>-2.15e-08</td> <td>  7.1e-09</td>\n",
       "</tr>\n",
       "<tr>\n",
       "  <th>NYC Suburb</th>                          <td>   -3.9662</td> <td>    1.751</td> <td>   -2.265</td> <td> 0.024</td> <td>   -7.400</td> <td>   -0.533</td>\n",
       "</tr>\n",
       "</table>\n",
       "<table class=\"simpletable\">\n",
       "<tr>\n",
       "  <th>Omnibus:</th>       <td>1898.322</td> <th>  Durbin-Watson:     </th> <td>   0.978</td> \n",
       "</tr>\n",
       "<tr>\n",
       "  <th>Prob(Omnibus):</th>  <td> 0.000</td>  <th>  Jarque-Bera (JB):  </th> <td>52563.007</td>\n",
       "</tr>\n",
       "<tr>\n",
       "  <th>Skew:</th>           <td> 2.722</td>  <th>  Prob(JB):          </th> <td>    0.00</td> \n",
       "</tr>\n",
       "<tr>\n",
       "  <th>Kurtosis:</th>       <td>23.277</td>  <th>  Cond. No.          </th> <td>3.09e+10</td> \n",
       "</tr>\n",
       "</table><br/><br/>Notes:<br/>[1] Standard Errors assume that the covariance matrix of the errors is correctly specified.<br/>[2] The condition number is large, 3.09e+10. This might indicate that there are<br/>strong multicollinearity or other numerical problems."
      ],
      "text/latex": [
       "\\begin{center}\n",
       "\\begin{tabular}{lclc}\n",
       "\\toprule\n",
       "\\textbf{Dep. Variable:}                      & EVs Added in 2022 & \\textbf{  R-squared:         } &     0.590   \\\\\n",
       "\\textbf{Model:}                              &        OLS        & \\textbf{  Adj. R-squared:    } &     0.588   \\\\\n",
       "\\textbf{Method:}                             &   Least Squares   & \\textbf{  F-statistic:       } &     241.2   \\\\\n",
       "\\textbf{Date:}                               &  Tue, 25 Jul 2023 & \\textbf{  Prob (F-statistic):} &     0.00    \\\\\n",
       "\\textbf{Time:}                               &      15:51:48     & \\textbf{  Log-Likelihood:    } &   -13452.   \\\\\n",
       "\\textbf{No. Observations:}                   &         2862      & \\textbf{  AIC:               } & 2.694e+04   \\\\\n",
       "\\textbf{Df Residuals:}                       &         2844      & \\textbf{  BIC:               } & 2.705e+04   \\\\\n",
       "\\textbf{Df Model:}                           &           17      & \\textbf{                     } &             \\\\\n",
       "\\textbf{Covariance Type:}                    &     nonrobust     & \\textbf{                     } &             \\\\\n",
       "\\bottomrule\n",
       "\\end{tabular}\n",
       "\\begin{tabular}{lcccccc}\n",
       "                                             & \\textbf{coef} & \\textbf{std err} & \\textbf{t} & \\textbf{P$> |$t$|$} & \\textbf{[0.025} & \\textbf{0.975]}  \\\\\n",
       "\\midrule\n",
       "\\textbf{const}                               &     -10.0415  &        4.157     &    -2.415  &         0.016        &      -18.193    &       -1.890     \\\\\n",
       "\\textbf{Median Family Household Income}      &       0.0001  &     3.24e-05     &     3.296  &         0.001        &     4.33e-05    &        0.000     \\\\\n",
       "\\textbf{Population}                          &       0.0006  &     8.75e-05     &     6.897  &         0.000        &        0.000    &        0.001     \\\\\n",
       "\\textbf{Percent Pop. Bachelors Deg. - 35-44} &       0.3222  &        0.035     &     9.285  &         0.000        &        0.254    &        0.390     \\\\\n",
       "\\textbf{dist\\_NYC}                           &      -0.0171  &        0.005     &    -3.745  &         0.000        &       -0.026    &       -0.008     \\\\\n",
       "\\textbf{high\\_pop}                           &      15.0565  &        1.533     &     9.821  &         0.000        &       12.050    &       18.063     \\\\\n",
       "\\textbf{voted for joe}                       &       3.2707  &        4.198     &     0.779  &         0.436        &       -4.961    &       11.502     \\\\\n",
       "\\textbf{in\\_NYC}                             &     -37.1297  &        2.316     &   -16.033  &         0.000        &      -41.671    &      -32.589     \\\\\n",
       "\\textbf{EV Charging Stations}                &       0.5314  &        0.149     &     3.570  &         0.000        &        0.240    &        0.823     \\\\\n",
       "\\textbf{Percent Pop. Age 25-29}              &      -0.4381  &        0.283     &    -1.549  &         0.122        &       -0.993    &        0.117     \\\\\n",
       "\\textbf{Percent Pop. Age 30-34}              &      -0.9070  &        0.211     &    -4.298  &         0.000        &       -1.321    &       -0.493     \\\\\n",
       "\\textbf{Percent Pop. Age 35-39}              &       0.3219  &        0.220     &     1.463  &         0.144        &       -0.110    &        0.753     \\\\\n",
       "\\textbf{High\\_Income}                        &     -16.9027  &        3.158     &    -5.352  &         0.000        &      -23.095    &      -10.710     \\\\\n",
       "\\textbf{Young\\_Liberal}                      &      -1.2321  &        0.367     &    -3.355  &         0.001        &       -1.952    &       -0.512     \\\\\n",
       "\\textbf{Income\\_Liberal}                     &    6.046e-05  &     3.01e-05     &     2.008  &         0.045        &     1.42e-06    &        0.000     \\\\\n",
       "\\textbf{Income\\_Pop}                         &    6.694e-09  &     1.18e-09     &     5.650  &         0.000        &     4.37e-09    &     9.02e-09     \\\\\n",
       "\\textbf{Ed\\_Income}                          &    -7.21e-09  &      7.3e-09     &    -0.988  &         0.323        &    -2.15e-08    &      7.1e-09     \\\\\n",
       "\\textbf{NYC Suburb}                          &      -3.9662  &        1.751     &    -2.265  &         0.024        &       -7.400    &       -0.533     \\\\\n",
       "\\bottomrule\n",
       "\\end{tabular}\n",
       "\\begin{tabular}{lclc}\n",
       "\\textbf{Omnibus:}       & 1898.322 & \\textbf{  Durbin-Watson:     } &     0.978  \\\\\n",
       "\\textbf{Prob(Omnibus):} &   0.000  & \\textbf{  Jarque-Bera (JB):  } & 52563.007  \\\\\n",
       "\\textbf{Skew:}          &   2.722  & \\textbf{  Prob(JB):          } &      0.00  \\\\\n",
       "\\textbf{Kurtosis:}      &  23.277  & \\textbf{  Cond. No.          } &  3.09e+10  \\\\\n",
       "\\bottomrule\n",
       "\\end{tabular}\n",
       "%\\caption{OLS Regression Results}\n",
       "\\end{center}\n",
       "\n",
       "Notes: \\newline\n",
       " [1] Standard Errors assume that the covariance matrix of the errors is correctly specified. \\newline\n",
       " [2] The condition number is large, 3.09e+10. This might indicate that there are \\newline\n",
       " strong multicollinearity or other numerical problems."
      ],
      "text/plain": [
       "<class 'statsmodels.iolib.summary.Summary'>\n",
       "\"\"\"\n",
       "                            OLS Regression Results                            \n",
       "==============================================================================\n",
       "Dep. Variable:      EVs Added in 2022   R-squared:                       0.590\n",
       "Model:                            OLS   Adj. R-squared:                  0.588\n",
       "Method:                 Least Squares   F-statistic:                     241.2\n",
       "Date:                Tue, 25 Jul 2023   Prob (F-statistic):               0.00\n",
       "Time:                        15:51:48   Log-Likelihood:                -13452.\n",
       "No. Observations:                2862   AIC:                         2.694e+04\n",
       "Df Residuals:                    2844   BIC:                         2.705e+04\n",
       "Df Model:                          17                                         \n",
       "Covariance Type:            nonrobust                                         \n",
       "=======================================================================================================\n",
       "                                          coef    std err          t      P>|t|      [0.025      0.975]\n",
       "-------------------------------------------------------------------------------------------------------\n",
       "const                                 -10.0415      4.157     -2.415      0.016     -18.193      -1.890\n",
       "Median Family Household Income          0.0001   3.24e-05      3.296      0.001    4.33e-05       0.000\n",
       "Population                              0.0006   8.75e-05      6.897      0.000       0.000       0.001\n",
       "Percent Pop. Bachelors Deg. - 35-44     0.3222      0.035      9.285      0.000       0.254       0.390\n",
       "dist_NYC                               -0.0171      0.005     -3.745      0.000      -0.026      -0.008\n",
       "high_pop                               15.0565      1.533      9.821      0.000      12.050      18.063\n",
       "voted for joe                           3.2707      4.198      0.779      0.436      -4.961      11.502\n",
       "in_NYC                                -37.1297      2.316    -16.033      0.000     -41.671     -32.589\n",
       "EV Charging Stations                    0.5314      0.149      3.570      0.000       0.240       0.823\n",
       "Percent Pop. Age 25-29                 -0.4381      0.283     -1.549      0.122      -0.993       0.117\n",
       "Percent Pop. Age 30-34                 -0.9070      0.211     -4.298      0.000      -1.321      -0.493\n",
       "Percent Pop. Age 35-39                  0.3219      0.220      1.463      0.144      -0.110       0.753\n",
       "High_Income                           -16.9027      3.158     -5.352      0.000     -23.095     -10.710\n",
       "Young_Liberal                          -1.2321      0.367     -3.355      0.001      -1.952      -0.512\n",
       "Income_Liberal                       6.046e-05   3.01e-05      2.008      0.045    1.42e-06       0.000\n",
       "Income_Pop                           6.694e-09   1.18e-09      5.650      0.000    4.37e-09    9.02e-09\n",
       "Ed_Income                            -7.21e-09    7.3e-09     -0.988      0.323   -2.15e-08     7.1e-09\n",
       "NYC Suburb                             -3.9662      1.751     -2.265      0.024      -7.400      -0.533\n",
       "==============================================================================\n",
       "Omnibus:                     1898.322   Durbin-Watson:                   0.978\n",
       "Prob(Omnibus):                  0.000   Jarque-Bera (JB):            52563.007\n",
       "Skew:                           2.722   Prob(JB):                         0.00\n",
       "Kurtosis:                      23.277   Cond. No.                     3.09e+10\n",
       "==============================================================================\n",
       "\n",
       "Notes:\n",
       "[1] Standard Errors assume that the covariance matrix of the errors is correctly specified.\n",
       "[2] The condition number is large, 3.09e+10. This might indicate that there are\n",
       "strong multicollinearity or other numerical problems.\n",
       "\"\"\""
      ]
     },
     "execution_count": 71,
     "metadata": {},
     "output_type": "execute_result"
    }
   ],
   "source": [
    "results.summary()"
   ]
  },
  {
   "cell_type": "code",
   "execution_count": 72,
   "id": "626199f8",
   "metadata": {},
   "outputs": [],
   "source": [
    "X_train, X_test, y_train, y_test = train_test_split(X, y, test_size=.3, random_state=42)"
   ]
  },
  {
   "cell_type": "code",
   "execution_count": 73,
   "id": "77eee370",
   "metadata": {},
   "outputs": [],
   "source": [
    "ss = StandardScaler()\n",
    "\n",
    "ss.fit(X_train)\n",
    "X_standardized_train = ss.transform(X_train)\n",
    "X_standardized_test = ss.transform(X_test)"
   ]
  },
  {
   "cell_type": "code",
   "execution_count": 74,
   "id": "96955324",
   "metadata": {},
   "outputs": [
    {
     "data": {
      "text/plain": [
       "0.5863020731193639"
      ]
     },
     "execution_count": 74,
     "metadata": {},
     "output_type": "execute_result"
    }
   ],
   "source": [
    "lr_raw = LinearRegression()\n",
    "lr_raw.fit(X_standardized_train, y_train)\n",
    "lr_raw.score(X_standardized_train, y_train)"
   ]
  },
  {
   "cell_type": "code",
   "execution_count": 75,
   "id": "d4176e39",
   "metadata": {},
   "outputs": [
    {
     "data": {
      "text/plain": [
       "Median Family Household Income          5.469067\n",
       "Population                             13.461886\n",
       "Percent Pop. Bachelors Deg. - 35-44     7.038853\n",
       "dist_NYC                               -2.002390\n",
       "high_pop                                6.998596\n",
       "voted for joe                           0.872372\n",
       "in_NYC                                -10.507768\n",
       "EV Charging Stations                    2.399894\n",
       "Percent Pop. Age 25-29                 -1.555252\n",
       "Percent Pop. Age 30-34                 -2.342661\n",
       "Percent Pop. Age 35-39                  1.107888\n",
       "High_Income                            -3.703294\n",
       "Young_Liberal                          -4.848793\n",
       "Income_Liberal                          4.816568\n",
       "Income_Pop                             14.657819\n",
       "Ed_Income                              -2.312270\n",
       "NYC Suburb                             -1.390300\n",
       "dtype: float64"
      ]
     },
     "execution_count": 75,
     "metadata": {},
     "output_type": "execute_result"
    }
   ],
   "source": [
    "pd.Series(lr_raw.coef_, index = X.columns)"
   ]
  },
  {
   "cell_type": "markdown",
   "id": "c38b08c9",
   "metadata": {},
   "source": [
    "## Summary - Comparing Model 1 and Model 3\n",
    "\n",
    "It's important to note the difference in the importance of each scaled coefficient in Model 1 compared against Model 3.  Model 1 highlights the socioeconomic features that affect the total number of EVs currently in a ZIP code from the inception of EVs to present, whereas Model 3 highlights those that affected the growth of EVs in a ZIP code in 2022.  The smaller R2 and limited size of the coefficients in Model 3 using the same features tells us that income is no longer a leading factor in the adoption of EVs.  As we would assume with a contemporary internal combustion engine (ICE) vehicle, the population of a zip code is now the factor that most affects EV adoption."
   ]
  }
 ],
 "metadata": {
  "kernelspec": {
   "display_name": "Python (learn-env)",
   "language": "python",
   "name": "learn-env"
  },
  "language_info": {
   "codemirror_mode": {
    "name": "ipython",
    "version": 3
   },
   "file_extension": ".py",
   "mimetype": "text/x-python",
   "name": "python",
   "nbconvert_exporter": "python",
   "pygments_lexer": "ipython3",
   "version": "3.8.5"
  }
 },
 "nbformat": 4,
 "nbformat_minor": 5
}
