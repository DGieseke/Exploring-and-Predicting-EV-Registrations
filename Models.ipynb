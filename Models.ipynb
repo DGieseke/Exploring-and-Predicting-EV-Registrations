{
 "cells": [
  {
   "cell_type": "markdown",
   "id": "15cc531d",
   "metadata": {},
   "source": [
    "# Models\n",
    "## Exploring and Predicting EV Registration Data\n",
    "\n",
    "Daniel Gieseke | August 2023\n",
    "\n",
    "The electric vehicle (EV) industry is booming at every level, and companies in the industry are aiming to understand the different factors that affect EV adoption, and the geographic spread of EVs such that they can adequately prepare and market themselves.  This project aims to take in real world data on EV registrations by zip code along with several socioeconomic factors to find respective variance and correlation, and ultimately build a machine learning model that can predict EV registration by zip code; with these models we aim to understand the factors that affect EV adoption.\n",
    "\n",
    "**About this notebook**\n",
    "\n",
    "This notebook contains the machine learning models developed in conjunction with this project.  For details on EDA and data preparation, please visit my other notebooks on GitHub."
   ]
  },
  {
   "cell_type": "markdown",
   "id": "3a73d7d5",
   "metadata": {},
   "source": [
    "### Importing Libraries"
   ]
  },
  {
   "cell_type": "code",
   "execution_count": 1,
   "id": "c07d1968",
   "metadata": {},
   "outputs": [
    {
     "name": "stderr",
     "output_type": "stream",
     "text": [
      "/Users/danielgieseke/anaconda3/envs/learn-env/lib/python3.8/site-packages/fuzzywuzzy/fuzz.py:11: UserWarning: Using slow pure-python SequenceMatcher. Install python-Levenshtein to remove this warning\n",
      "  warnings.warn('Using slow pure-python SequenceMatcher. Install python-Levenshtein to remove this warning')\n"
     ]
    }
   ],
   "source": [
    "import pandas as pd\n",
    "import numpy as np\n",
    "import seaborn as sns\n",
    "sns.set_style(\"darkgrid\", {\"font.family\": \"Helvetica\"})\n",
    "import matplotlib.pyplot as plt\n",
    "from sklearn.model_selection import train_test_split\n",
    "from sklearn.linear_model import LinearRegression, Ridge, Lasso, LogisticRegression\n",
    "from sklearn.metrics import accuracy_score, confusion_matrix, mean_absolute_error, mean_squared_error, r2_score\n",
    "from sklearn.pipeline import Pipeline\n",
    "from sklearn.ensemble import RandomForestClassifier, RandomForestRegressor\n",
    "from sklearn.model_selection import GridSearchCV\n",
    "from sklearn.preprocessing import MinMaxScaler, StandardScaler, PolynomialFeatures\n",
    "from sklearn.tree import plot_tree\n",
    "from sklearn.metrics import ConfusionMatrixDisplay\n",
    "from uszipcode import SearchEngine\n",
    "from imblearn.over_sampling import SMOTE\n",
    "import statsmodels.api as sm\n",
    "import mpu\n",
    "import zipcodes\n",
    "import warnings\n",
    "warnings.filterwarnings(\"ignore\")"
   ]
  },
  {
   "cell_type": "markdown",
   "id": "8dea2a72",
   "metadata": {},
   "source": [
    "### Importing EV Registration Data and Performing Light Cleaning"
   ]
  },
  {
   "cell_type": "code",
   "execution_count": 2,
   "id": "b1a069ce",
   "metadata": {},
   "outputs": [],
   "source": [
    "# Importing Data\n",
    "df = pd.read_csv('Cleaned_EV_Reg_Data')\n",
    "\n",
    "# Dropping Unneeded Row\n",
    "df = df.drop(columns='Unnamed: 0')\n",
    "\n",
    "# Converting ZIP Column to STR\n",
    "df['ZIP Code'] = df['ZIP Code'].astype(str)"
   ]
  },
  {
   "cell_type": "code",
   "execution_count": 3,
   "id": "1e655f77",
   "metadata": {},
   "outputs": [],
   "source": [
    "# Cleaning ZIP Column\n",
    "dirty_zips = df['ZIP Code']\n",
    "clean_zips = []\n",
    "\n",
    "for code in dirty_zips:\n",
    "    if len(code) < 5:\n",
    "        new_code = '0' + code\n",
    "        clean_zips.append(new_code)\n",
    "    else:\n",
    "        clean_zips.append(code)\n",
    "\n",
    "df['ZIP Code'] = clean_zips"
   ]
  },
  {
   "cell_type": "code",
   "execution_count": 4,
   "id": "2e825c87",
   "metadata": {},
   "outputs": [],
   "source": [
    "# Adding State Column\n",
    "conditions = [\n",
    "    df['NY'] == 1,\n",
    "    df['NJ'] == 1,\n",
    "    df['CT'] == 1,\n",
    "]\n",
    "\n",
    "outputs = [\n",
    "    'New York', 'New Jersey', 'Connecticut'\n",
    "]"
   ]
  },
  {
   "cell_type": "code",
   "execution_count": 5,
   "id": "eff4492e",
   "metadata": {},
   "outputs": [],
   "source": [
    "df['State'] = np.select(conditions, outputs)"
   ]
  },
  {
   "cell_type": "code",
   "execution_count": 6,
   "id": "25b9e403",
   "metadata": {},
   "outputs": [],
   "source": [
    "# Creating \"TIME\" df by Joining 2022 data\n",
    "df_2022 = pd.read_csv('Cleaned_EV_Reg_Data_2022')\n",
    "\n",
    "# Converting ZIP Column to STR\n",
    "df_2022['ZIP Code'] = df_2022['ZIP Code'].astype(str)\n",
    "\n",
    "# Cleaning ZIP Column\n",
    "dirty_zips = df_2022['ZIP Code']\n",
    "clean_zips = []\n",
    "\n",
    "for code in dirty_zips:\n",
    "    if len(code) < 5:\n",
    "        new_code = '0' + code\n",
    "        clean_zips.append(new_code)\n",
    "    else:\n",
    "        clean_zips.append(code)\n",
    "\n",
    "df_2022['ZIP Code'] = clean_zips\n",
    "\n",
    "df_time = df.merge(df_2022, on='ZIP Code', how='left')"
   ]
  },
  {
   "cell_type": "code",
   "execution_count": 7,
   "id": "c92a7f53",
   "metadata": {},
   "outputs": [],
   "source": [
    "# Removing Connecticut from TIME df as CT doesn't have a wide breadth of EV data from 2022\n",
    "df_time = df_time.dropna()"
   ]
  },
  {
   "cell_type": "markdown",
   "id": "3defcef0",
   "metadata": {},
   "source": [
    "   "
   ]
  },
  {
   "cell_type": "markdown",
   "id": "d9470e02",
   "metadata": {},
   "source": [
    "## Model 1 - Predicting Total EVs Registered in a ZIP Code - Linear Regression"
   ]
  },
  {
   "cell_type": "markdown",
   "id": "b939441e",
   "metadata": {},
   "source": [
    "Below I am performing a linear regression using first a model from the Statsmodels.api library, then performing a train test split using the scikit-learn library.  After finding my best features in my model using my Statsmodels.api model, I continued to tune my model with scikit-learn.  Eventually I received an R2 score of .82."
   ]
  },
  {
   "cell_type": "markdown",
   "id": "73ec46cd",
   "metadata": {},
   "source": [
    "### Statsmodels.api"
   ]
  },
  {
   "cell_type": "code",
   "execution_count": 8,
   "id": "d7ad9ba4",
   "metadata": {},
   "outputs": [],
   "source": [
    "y = df['Vehicle Count']\n",
    "X = df[['Median Family Household Income', 'Population', 'Percent Pop. Bachelors Deg. - 35-44', \n",
    "            'high_pop', 'in_NYC', 'EV Charging Stations', 'CT', \n",
    "             'Percent Pop. Age 30-34', 'High_Income', \n",
    "           'Young_Liberal', 'Income_Liberal', 'Income_Pop', 'Ed_Income', 'NYC Suburb']]"
   ]
  },
  {
   "cell_type": "code",
   "execution_count": 9,
   "id": "44b80391",
   "metadata": {},
   "outputs": [],
   "source": [
    "model = sm.OLS(y, sm.add_constant(X))"
   ]
  },
  {
   "cell_type": "code",
   "execution_count": 10,
   "id": "e4b7afe9",
   "metadata": {},
   "outputs": [],
   "source": [
    "results = model.fit()"
   ]
  },
  {
   "cell_type": "code",
   "execution_count": 11,
   "id": "aa947fe3",
   "metadata": {},
   "outputs": [
    {
     "data": {
      "text/html": [
       "<table class=\"simpletable\">\n",
       "<caption>OLS Regression Results</caption>\n",
       "<tr>\n",
       "  <th>Dep. Variable:</th>      <td>Vehicle Count</td>  <th>  R-squared:         </th> <td>   0.708</td> \n",
       "</tr>\n",
       "<tr>\n",
       "  <th>Model:</th>                   <td>OLS</td>       <th>  Adj. R-squared:    </th> <td>   0.706</td> \n",
       "</tr>\n",
       "<tr>\n",
       "  <th>Method:</th>             <td>Least Squares</td>  <th>  F-statistic:       </th> <td>   449.3</td> \n",
       "</tr>\n",
       "<tr>\n",
       "  <th>Date:</th>             <td>Tue, 01 Aug 2023</td> <th>  Prob (F-statistic):</th>  <td>  0.00</td>  \n",
       "</tr>\n",
       "<tr>\n",
       "  <th>Time:</th>                 <td>14:00:54</td>     <th>  Log-Likelihood:    </th> <td> -14909.</td> \n",
       "</tr>\n",
       "<tr>\n",
       "  <th>No. Observations:</th>      <td>  2614</td>      <th>  AIC:               </th> <td>2.985e+04</td>\n",
       "</tr>\n",
       "<tr>\n",
       "  <th>Df Residuals:</th>          <td>  2599</td>      <th>  BIC:               </th> <td>2.994e+04</td>\n",
       "</tr>\n",
       "<tr>\n",
       "  <th>Df Model:</th>              <td>    14</td>      <th>                     </th>     <td> </td>    \n",
       "</tr>\n",
       "<tr>\n",
       "  <th>Covariance Type:</th>      <td>nonrobust</td>    <th>                     </th>     <td> </td>    \n",
       "</tr>\n",
       "</table>\n",
       "<table class=\"simpletable\">\n",
       "<tr>\n",
       "                   <td></td>                      <th>coef</th>     <th>std err</th>      <th>t</th>      <th>P>|t|</th>  <th>[0.025</th>    <th>0.975]</th>  \n",
       "</tr>\n",
       "<tr>\n",
       "  <th>const</th>                               <td>  -43.3983</td> <td>    6.914</td> <td>   -6.276</td> <td> 0.000</td> <td>  -56.957</td> <td>  -29.840</td>\n",
       "</tr>\n",
       "<tr>\n",
       "  <th>Median Family Household Income</th>      <td>    0.0004</td> <td> 7.66e-05</td> <td>    4.958</td> <td> 0.000</td> <td>    0.000</td> <td>    0.001</td>\n",
       "</tr>\n",
       "<tr>\n",
       "  <th>Population</th>                          <td>    0.0011</td> <td>    0.000</td> <td>    4.165</td> <td> 0.000</td> <td>    0.001</td> <td>    0.002</td>\n",
       "</tr>\n",
       "<tr>\n",
       "  <th>Percent Pop. Bachelors Deg. - 35-44</th> <td>    0.8249</td> <td>    0.094</td> <td>    8.820</td> <td> 0.000</td> <td>    0.642</td> <td>    1.008</td>\n",
       "</tr>\n",
       "<tr>\n",
       "  <th>high_pop</th>                            <td>   55.0774</td> <td>    4.421</td> <td>   12.458</td> <td> 0.000</td> <td>   46.408</td> <td>   63.746</td>\n",
       "</tr>\n",
       "<tr>\n",
       "  <th>in_NYC</th>                              <td> -124.4403</td> <td>    6.962</td> <td>  -17.874</td> <td> 0.000</td> <td> -138.092</td> <td> -110.789</td>\n",
       "</tr>\n",
       "<tr>\n",
       "  <th>EV Charging Stations</th>                <td>    3.0404</td> <td>    0.511</td> <td>    5.951</td> <td> 0.000</td> <td>    2.039</td> <td>    4.042</td>\n",
       "</tr>\n",
       "<tr>\n",
       "  <th>CT</th>                                  <td>  -14.5157</td> <td>    4.930</td> <td>   -2.944</td> <td> 0.003</td> <td>  -24.183</td> <td>   -4.848</td>\n",
       "</tr>\n",
       "<tr>\n",
       "  <th>Percent Pop. Age 30-34</th>              <td>   -2.6933</td> <td>    0.576</td> <td>   -4.672</td> <td> 0.000</td> <td>   -3.824</td> <td>   -1.563</td>\n",
       "</tr>\n",
       "<tr>\n",
       "  <th>High_Income</th>                         <td>  -19.9554</td> <td>    8.829</td> <td>   -2.260</td> <td> 0.024</td> <td>  -37.269</td> <td>   -2.642</td>\n",
       "</tr>\n",
       "<tr>\n",
       "  <th>Young_Liberal</th>                       <td>   -3.9102</td> <td>    0.590</td> <td>   -6.632</td> <td> 0.000</td> <td>   -5.066</td> <td>   -2.754</td>\n",
       "</tr>\n",
       "<tr>\n",
       "  <th>Income_Liberal</th>                      <td>    0.0002</td> <td> 4.11e-05</td> <td>    5.752</td> <td> 0.000</td> <td>    0.000</td> <td>    0.000</td>\n",
       "</tr>\n",
       "<tr>\n",
       "  <th>Income_Pop</th>                          <td> 3.551e-08</td> <td> 3.75e-09</td> <td>    9.459</td> <td> 0.000</td> <td> 2.81e-08</td> <td> 4.29e-08</td>\n",
       "</tr>\n",
       "<tr>\n",
       "  <th>Ed_Income</th>                           <td>-3.518e-08</td> <td> 2.32e-08</td> <td>   -1.514</td> <td> 0.130</td> <td>-8.08e-08</td> <td> 1.04e-08</td>\n",
       "</tr>\n",
       "<tr>\n",
       "  <th>NYC Suburb</th>                          <td>   15.8544</td> <td>    4.854</td> <td>    3.266</td> <td> 0.001</td> <td>    6.337</td> <td>   25.372</td>\n",
       "</tr>\n",
       "</table>\n",
       "<table class=\"simpletable\">\n",
       "<tr>\n",
       "  <th>Omnibus:</th>       <td>1021.391</td> <th>  Durbin-Watson:     </th> <td>   1.297</td>\n",
       "</tr>\n",
       "<tr>\n",
       "  <th>Prob(Omnibus):</th>  <td> 0.000</td>  <th>  Jarque-Bera (JB):  </th> <td>9416.124</td>\n",
       "</tr>\n",
       "<tr>\n",
       "  <th>Skew:</th>           <td> 1.590</td>  <th>  Prob(JB):          </th> <td>    0.00</td>\n",
       "</tr>\n",
       "<tr>\n",
       "  <th>Kurtosis:</th>       <td>11.738</td>  <th>  Cond. No.          </th> <td>1.73e+10</td>\n",
       "</tr>\n",
       "</table><br/><br/>Notes:<br/>[1] Standard Errors assume that the covariance matrix of the errors is correctly specified.<br/>[2] The condition number is large, 1.73e+10. This might indicate that there are<br/>strong multicollinearity or other numerical problems."
      ],
      "text/latex": [
       "\\begin{center}\n",
       "\\begin{tabular}{lclc}\n",
       "\\toprule\n",
       "\\textbf{Dep. Variable:}                      &  Vehicle Count   & \\textbf{  R-squared:         } &     0.708   \\\\\n",
       "\\textbf{Model:}                              &       OLS        & \\textbf{  Adj. R-squared:    } &     0.706   \\\\\n",
       "\\textbf{Method:}                             &  Least Squares   & \\textbf{  F-statistic:       } &     449.3   \\\\\n",
       "\\textbf{Date:}                               & Tue, 01 Aug 2023 & \\textbf{  Prob (F-statistic):} &     0.00    \\\\\n",
       "\\textbf{Time:}                               &     14:00:54     & \\textbf{  Log-Likelihood:    } &   -14909.   \\\\\n",
       "\\textbf{No. Observations:}                   &        2614      & \\textbf{  AIC:               } & 2.985e+04   \\\\\n",
       "\\textbf{Df Residuals:}                       &        2599      & \\textbf{  BIC:               } & 2.994e+04   \\\\\n",
       "\\textbf{Df Model:}                           &          14      & \\textbf{                     } &             \\\\\n",
       "\\textbf{Covariance Type:}                    &    nonrobust     & \\textbf{                     } &             \\\\\n",
       "\\bottomrule\n",
       "\\end{tabular}\n",
       "\\begin{tabular}{lcccccc}\n",
       "                                             & \\textbf{coef} & \\textbf{std err} & \\textbf{t} & \\textbf{P$> |$t$|$} & \\textbf{[0.025} & \\textbf{0.975]}  \\\\\n",
       "\\midrule\n",
       "\\textbf{const}                               &     -43.3983  &        6.914     &    -6.276  &         0.000        &      -56.957    &      -29.840     \\\\\n",
       "\\textbf{Median Family Household Income}      &       0.0004  &     7.66e-05     &     4.958  &         0.000        &        0.000    &        0.001     \\\\\n",
       "\\textbf{Population}                          &       0.0011  &        0.000     &     4.165  &         0.000        &        0.001    &        0.002     \\\\\n",
       "\\textbf{Percent Pop. Bachelors Deg. - 35-44} &       0.8249  &        0.094     &     8.820  &         0.000        &        0.642    &        1.008     \\\\\n",
       "\\textbf{high\\_pop}                           &      55.0774  &        4.421     &    12.458  &         0.000        &       46.408    &       63.746     \\\\\n",
       "\\textbf{in\\_NYC}                             &    -124.4403  &        6.962     &   -17.874  &         0.000        &     -138.092    &     -110.789     \\\\\n",
       "\\textbf{EV Charging Stations}                &       3.0404  &        0.511     &     5.951  &         0.000        &        2.039    &        4.042     \\\\\n",
       "\\textbf{CT}                                  &     -14.5157  &        4.930     &    -2.944  &         0.003        &      -24.183    &       -4.848     \\\\\n",
       "\\textbf{Percent Pop. Age 30-34}              &      -2.6933  &        0.576     &    -4.672  &         0.000        &       -3.824    &       -1.563     \\\\\n",
       "\\textbf{High\\_Income}                        &     -19.9554  &        8.829     &    -2.260  &         0.024        &      -37.269    &       -2.642     \\\\\n",
       "\\textbf{Young\\_Liberal}                      &      -3.9102  &        0.590     &    -6.632  &         0.000        &       -5.066    &       -2.754     \\\\\n",
       "\\textbf{Income\\_Liberal}                     &       0.0002  &     4.11e-05     &     5.752  &         0.000        &        0.000    &        0.000     \\\\\n",
       "\\textbf{Income\\_Pop}                         &    3.551e-08  &     3.75e-09     &     9.459  &         0.000        &     2.81e-08    &     4.29e-08     \\\\\n",
       "\\textbf{Ed\\_Income}                          &   -3.518e-08  &     2.32e-08     &    -1.514  &         0.130        &    -8.08e-08    &     1.04e-08     \\\\\n",
       "\\textbf{NYC Suburb}                          &      15.8544  &        4.854     &     3.266  &         0.001        &        6.337    &       25.372     \\\\\n",
       "\\bottomrule\n",
       "\\end{tabular}\n",
       "\\begin{tabular}{lclc}\n",
       "\\textbf{Omnibus:}       & 1021.391 & \\textbf{  Durbin-Watson:     } &    1.297  \\\\\n",
       "\\textbf{Prob(Omnibus):} &   0.000  & \\textbf{  Jarque-Bera (JB):  } & 9416.124  \\\\\n",
       "\\textbf{Skew:}          &   1.590  & \\textbf{  Prob(JB):          } &     0.00  \\\\\n",
       "\\textbf{Kurtosis:}      &  11.738  & \\textbf{  Cond. No.          } & 1.73e+10  \\\\\n",
       "\\bottomrule\n",
       "\\end{tabular}\n",
       "%\\caption{OLS Regression Results}\n",
       "\\end{center}\n",
       "\n",
       "Notes: \\newline\n",
       " [1] Standard Errors assume that the covariance matrix of the errors is correctly specified. \\newline\n",
       " [2] The condition number is large, 1.73e+10. This might indicate that there are \\newline\n",
       " strong multicollinearity or other numerical problems."
      ],
      "text/plain": [
       "<class 'statsmodels.iolib.summary.Summary'>\n",
       "\"\"\"\n",
       "                            OLS Regression Results                            \n",
       "==============================================================================\n",
       "Dep. Variable:          Vehicle Count   R-squared:                       0.708\n",
       "Model:                            OLS   Adj. R-squared:                  0.706\n",
       "Method:                 Least Squares   F-statistic:                     449.3\n",
       "Date:                Tue, 01 Aug 2023   Prob (F-statistic):               0.00\n",
       "Time:                        14:00:54   Log-Likelihood:                -14909.\n",
       "No. Observations:                2614   AIC:                         2.985e+04\n",
       "Df Residuals:                    2599   BIC:                         2.994e+04\n",
       "Df Model:                          14                                         \n",
       "Covariance Type:            nonrobust                                         \n",
       "=======================================================================================================\n",
       "                                          coef    std err          t      P>|t|      [0.025      0.975]\n",
       "-------------------------------------------------------------------------------------------------------\n",
       "const                                 -43.3983      6.914     -6.276      0.000     -56.957     -29.840\n",
       "Median Family Household Income          0.0004   7.66e-05      4.958      0.000       0.000       0.001\n",
       "Population                              0.0011      0.000      4.165      0.000       0.001       0.002\n",
       "Percent Pop. Bachelors Deg. - 35-44     0.8249      0.094      8.820      0.000       0.642       1.008\n",
       "high_pop                               55.0774      4.421     12.458      0.000      46.408      63.746\n",
       "in_NYC                               -124.4403      6.962    -17.874      0.000    -138.092    -110.789\n",
       "EV Charging Stations                    3.0404      0.511      5.951      0.000       2.039       4.042\n",
       "CT                                    -14.5157      4.930     -2.944      0.003     -24.183      -4.848\n",
       "Percent Pop. Age 30-34                 -2.6933      0.576     -4.672      0.000      -3.824      -1.563\n",
       "High_Income                           -19.9554      8.829     -2.260      0.024     -37.269      -2.642\n",
       "Young_Liberal                          -3.9102      0.590     -6.632      0.000      -5.066      -2.754\n",
       "Income_Liberal                          0.0002   4.11e-05      5.752      0.000       0.000       0.000\n",
       "Income_Pop                           3.551e-08   3.75e-09      9.459      0.000    2.81e-08    4.29e-08\n",
       "Ed_Income                           -3.518e-08   2.32e-08     -1.514      0.130   -8.08e-08    1.04e-08\n",
       "NYC Suburb                             15.8544      4.854      3.266      0.001       6.337      25.372\n",
       "==============================================================================\n",
       "Omnibus:                     1021.391   Durbin-Watson:                   1.297\n",
       "Prob(Omnibus):                  0.000   Jarque-Bera (JB):             9416.124\n",
       "Skew:                           1.590   Prob(JB):                         0.00\n",
       "Kurtosis:                      11.738   Cond. No.                     1.73e+10\n",
       "==============================================================================\n",
       "\n",
       "Notes:\n",
       "[1] Standard Errors assume that the covariance matrix of the errors is correctly specified.\n",
       "[2] The condition number is large, 1.73e+10. This might indicate that there are\n",
       "strong multicollinearity or other numerical problems.\n",
       "\"\"\""
      ]
     },
     "execution_count": 11,
     "metadata": {},
     "output_type": "execute_result"
    }
   ],
   "source": [
    "results.summary()"
   ]
  },
  {
   "cell_type": "markdown",
   "id": "1dad432a",
   "metadata": {},
   "source": [
    "### scikit-learn"
   ]
  },
  {
   "cell_type": "code",
   "execution_count": 12,
   "id": "2c4da505",
   "metadata": {},
   "outputs": [],
   "source": [
    "y = df['Vehicle Count']\n",
    "X = df[['Median Family Household Income', 'Population', 'Percent Pop. Bachelors Deg. - 35-44', \n",
    "            'dist_NYC', 'high_pop', 'voted for joe', 'in_NYC', 'EV Charging Stations', 'CT', \n",
    "            'Percent Pop. Age 25-29', 'Percent Pop. Age 30-34', 'Percent Pop. Age 35-39', 'High_Income', \n",
    "           'Young_Liberal', 'Income_Liberal', 'Income_Pop', 'Ed_Income', 'NYC Suburb']]\n",
    "\n",
    "X_train, X_test, y_train, y_test = train_test_split(X, y, test_size=.3, random_state=42)"
   ]
  },
  {
   "cell_type": "code",
   "execution_count": 13,
   "id": "952fbd76",
   "metadata": {},
   "outputs": [],
   "source": [
    "ss = StandardScaler()\n",
    "\n",
    "ss.fit(X_train)\n",
    "X_standardized_train = ss.transform(X_train)\n",
    "X_standardized_test = ss.transform(X_test)"
   ]
  },
  {
   "cell_type": "code",
   "execution_count": 14,
   "id": "87706011",
   "metadata": {},
   "outputs": [
    {
     "data": {
      "text/plain": [
       "0.7101230195375707"
      ]
     },
     "execution_count": 14,
     "metadata": {},
     "output_type": "execute_result"
    }
   ],
   "source": [
    "lr_raw = LinearRegression()\n",
    "lr_raw.fit(X_standardized_train, y_train)\n",
    "\n",
    "# Below is the R2 of my model - as you can see, it is similar to my model built using \"Statsmodels.api\"\n",
    "lr_raw.score(X_standardized_train, y_train)"
   ]
  },
  {
   "cell_type": "code",
   "execution_count": 15,
   "id": "e6af8f77",
   "metadata": {},
   "outputs": [
    {
     "data": {
      "text/plain": [
       "Median Family Household Income         19.088655\n",
       "Population                             22.402650\n",
       "Percent Pop. Bachelors Deg. - 35-44    21.390147\n",
       "dist_NYC                                1.903036\n",
       "high_pop                               25.661928\n",
       "voted for joe                           0.285955\n",
       "in_NYC                                -34.960138\n",
       "EV Charging Stations                    7.879401\n",
       "CT                                     -3.593818\n",
       "Percent Pop. Age 25-29                 -3.071111\n",
       "Percent Pop. Age 30-34                 -7.675295\n",
       "Percent Pop. Age 35-39                  2.275639\n",
       "High_Income                            -9.510257\n",
       "Young_Liberal                         -12.249013\n",
       "Income_Liberal                         11.799739\n",
       "Income_Pop                             80.196031\n",
       "Ed_Income                             -13.667277\n",
       "NYC Suburb                              6.316243\n",
       "dtype: float64"
      ]
     },
     "execution_count": 15,
     "metadata": {},
     "output_type": "execute_result"
    }
   ],
   "source": [
    "# Below are the coefficients of my scaled data - this tells me the most important features to my model\n",
    "pd.Series(lr_raw.coef_, index = X.columns)"
   ]
  },
  {
   "cell_type": "code",
   "execution_count": 16,
   "id": "8ce59869",
   "metadata": {},
   "outputs": [],
   "source": [
    "# Instantiating and Fitting a MinMaxScaler\n",
    "scale = MinMaxScaler()\n",
    "X_train_transformed = scale.fit_transform(X_train)\n",
    "X_test_transformed = scale.transform(X_test)"
   ]
  },
  {
   "cell_type": "code",
   "execution_count": 17,
   "id": "08f5ec78",
   "metadata": {},
   "outputs": [
    {
     "data": {
      "text/html": [
       "<style>#sk-container-id-1 {color: black;}#sk-container-id-1 pre{padding: 0;}#sk-container-id-1 div.sk-toggleable {background-color: white;}#sk-container-id-1 label.sk-toggleable__label {cursor: pointer;display: block;width: 100%;margin-bottom: 0;padding: 0.3em;box-sizing: border-box;text-align: center;}#sk-container-id-1 label.sk-toggleable__label-arrow:before {content: \"▸\";float: left;margin-right: 0.25em;color: #696969;}#sk-container-id-1 label.sk-toggleable__label-arrow:hover:before {color: black;}#sk-container-id-1 div.sk-estimator:hover label.sk-toggleable__label-arrow:before {color: black;}#sk-container-id-1 div.sk-toggleable__content {max-height: 0;max-width: 0;overflow: hidden;text-align: left;background-color: #f0f8ff;}#sk-container-id-1 div.sk-toggleable__content pre {margin: 0.2em;color: black;border-radius: 0.25em;background-color: #f0f8ff;}#sk-container-id-1 input.sk-toggleable__control:checked~div.sk-toggleable__content {max-height: 200px;max-width: 100%;overflow: auto;}#sk-container-id-1 input.sk-toggleable__control:checked~label.sk-toggleable__label-arrow:before {content: \"▾\";}#sk-container-id-1 div.sk-estimator input.sk-toggleable__control:checked~label.sk-toggleable__label {background-color: #d4ebff;}#sk-container-id-1 div.sk-label input.sk-toggleable__control:checked~label.sk-toggleable__label {background-color: #d4ebff;}#sk-container-id-1 input.sk-hidden--visually {border: 0;clip: rect(1px 1px 1px 1px);clip: rect(1px, 1px, 1px, 1px);height: 1px;margin: -1px;overflow: hidden;padding: 0;position: absolute;width: 1px;}#sk-container-id-1 div.sk-estimator {font-family: monospace;background-color: #f0f8ff;border: 1px dotted black;border-radius: 0.25em;box-sizing: border-box;margin-bottom: 0.5em;}#sk-container-id-1 div.sk-estimator:hover {background-color: #d4ebff;}#sk-container-id-1 div.sk-parallel-item::after {content: \"\";width: 100%;border-bottom: 1px solid gray;flex-grow: 1;}#sk-container-id-1 div.sk-label:hover label.sk-toggleable__label {background-color: #d4ebff;}#sk-container-id-1 div.sk-serial::before {content: \"\";position: absolute;border-left: 1px solid gray;box-sizing: border-box;top: 0;bottom: 0;left: 50%;z-index: 0;}#sk-container-id-1 div.sk-serial {display: flex;flex-direction: column;align-items: center;background-color: white;padding-right: 0.2em;padding-left: 0.2em;position: relative;}#sk-container-id-1 div.sk-item {position: relative;z-index: 1;}#sk-container-id-1 div.sk-parallel {display: flex;align-items: stretch;justify-content: center;background-color: white;position: relative;}#sk-container-id-1 div.sk-item::before, #sk-container-id-1 div.sk-parallel-item::before {content: \"\";position: absolute;border-left: 1px solid gray;box-sizing: border-box;top: 0;bottom: 0;left: 50%;z-index: -1;}#sk-container-id-1 div.sk-parallel-item {display: flex;flex-direction: column;z-index: 1;position: relative;background-color: white;}#sk-container-id-1 div.sk-parallel-item:first-child::after {align-self: flex-end;width: 50%;}#sk-container-id-1 div.sk-parallel-item:last-child::after {align-self: flex-start;width: 50%;}#sk-container-id-1 div.sk-parallel-item:only-child::after {width: 0;}#sk-container-id-1 div.sk-dashed-wrapped {border: 1px dashed gray;margin: 0 0.4em 0.5em 0.4em;box-sizing: border-box;padding-bottom: 0.4em;background-color: white;}#sk-container-id-1 div.sk-label label {font-family: monospace;font-weight: bold;display: inline-block;line-height: 1.2em;}#sk-container-id-1 div.sk-label-container {text-align: center;}#sk-container-id-1 div.sk-container {/* jupyter's `normalize.less` sets `[hidden] { display: none; }` but bootstrap.min.css set `[hidden] { display: none !important; }` so we also need the `!important` here to be able to override the default hidden behavior on the sphinx rendered scikit-learn.org. See: https://github.com/scikit-learn/scikit-learn/issues/21755 */display: inline-block !important;position: relative;}#sk-container-id-1 div.sk-text-repr-fallback {display: none;}</style><div id=\"sk-container-id-1\" class=\"sk-top-container\"><div class=\"sk-text-repr-fallback\"><pre>LinearRegression()</pre><b>In a Jupyter environment, please rerun this cell to show the HTML representation or trust the notebook. <br />On GitHub, the HTML representation is unable to render, please try loading this page with nbviewer.org.</b></div><div class=\"sk-container\" hidden><div class=\"sk-item\"><div class=\"sk-estimator sk-toggleable\"><input class=\"sk-toggleable__control sk-hidden--visually\" id=\"sk-estimator-id-1\" type=\"checkbox\" checked><label for=\"sk-estimator-id-1\" class=\"sk-toggleable__label sk-toggleable__label-arrow\">LinearRegression</label><div class=\"sk-toggleable__content\"><pre>LinearRegression()</pre></div></div></div></div></div>"
      ],
      "text/plain": [
       "LinearRegression()"
      ]
     },
     "execution_count": 17,
     "metadata": {},
     "output_type": "execute_result"
    }
   ],
   "source": [
    "# Instantiating a ridge, lasso and regular linear regression model  \n",
    "# Note that in scikit-learn, the regularization parameter is denoted by alpha (and not lambda)\n",
    "ridge = Ridge(alpha=0.5)\n",
    "ridge.fit(X_train_transformed, y_train)\n",
    "\n",
    "lasso = Lasso(alpha=0.5)\n",
    "lasso.fit(X_train_transformed, y_train)\n",
    "\n",
    "lin = LinearRegression()\n",
    "lin.fit(X_train_transformed, y_train)"
   ]
  },
  {
   "cell_type": "code",
   "execution_count": 18,
   "id": "d29b7157",
   "metadata": {},
   "outputs": [
    {
     "name": "stdout",
     "output_type": "stream",
     "text": [
      "Train Error Polynomial Ridge Model 2550.5898032423\n",
      "Test Error Polynomial Ridge Model 3226.527419471121\n",
      "\n",
      "\n",
      "Train Error Polynomial Lasso Model 3622.701240195662\n",
      "Test Error Polynomial Lasso Model 3883.742875357562\n",
      "\n",
      "\n",
      "Train Error Unpenalized Polynomial Model 2251.036859239178\n",
      "Test Error Unpenalized Polynomial Model 3645.912937172126\n",
      "\n",
      "\n",
      "Polynomial Ridge Parameter Coefficients: 187 non-zero coefficient(s) and 3 zeroed-out coefficient(s)\n",
      "Polynomial Lasso Parameter Coefficients: 22 non-zero coefficient(s) and 168 zeroed-out coefficient(s)\n",
      "Polynomial Model Parameter Coefficients: 190 non-zero coefficient(s) and 0 zeroed-out coefficient(s)\n"
     ]
    }
   ],
   "source": [
    "# Instantiating and Fitting Polynomial Features\n",
    "poly = PolynomialFeatures(degree=2)\n",
    "X_train_poly = poly.fit_transform(X_train)\n",
    "X_test_poly = poly.transform(X_test)\n",
    "\n",
    "X_train_transformed = scale.fit_transform(X_train_poly)\n",
    "X_test_transformed = scale.transform(X_test_poly)\n",
    "\n",
    "# Fitting the models\n",
    "ridge.fit(X_train_transformed, y_train)\n",
    "lasso.fit(X_train_transformed, y_train)\n",
    "lin.fit(X_train_transformed, y_train)\n",
    "\n",
    "# Generating predictions\n",
    "y_h_ridge_train = ridge.predict(X_train_transformed)\n",
    "y_h_ridge_test = ridge.predict(X_test_transformed)\n",
    "y_h_lasso_train = lasso.predict(X_train_transformed)\n",
    "y_h_lasso_test = lasso.predict(X_test_transformed)\n",
    "y_h_lin_train = lin.predict(X_train_transformed)\n",
    "y_h_lin_test = lin.predict(X_test_transformed)\n",
    "\n",
    "# Displaying results\n",
    "print('Train Error Polynomial Ridge Model', mean_squared_error(y_train, y_h_ridge_train))\n",
    "print('Test Error Polynomial Ridge Model', mean_squared_error(y_test, y_h_ridge_test))\n",
    "print('\\n')\n",
    "print('Train Error Polynomial Lasso Model', mean_squared_error(y_train, y_h_lasso_train))\n",
    "print('Test Error Polynomial Lasso Model', mean_squared_error(y_test, y_h_lasso_test))\n",
    "print('\\n')\n",
    "print('Train Error Unpenalized Polynomial Model', mean_squared_error(y_train, y_h_lin_train))\n",
    "print('Test Error Unpenalized Polynomial Model', mean_squared_error(y_test, y_h_lin_test))\n",
    "print('\\n')\n",
    "print('Polynomial Ridge Parameter Coefficients:', len(ridge.coef_[ridge.coef_ != 0]), \n",
    "      'non-zero coefficient(s) and', len(ridge.coef_[ridge.coef_ == 0]), 'zeroed-out coefficient(s)')\n",
    "print('Polynomial Lasso Parameter Coefficients:',  len(lasso.coef_[lasso.coef_ != 0]), \n",
    "      'non-zero coefficient(s) and', len(lasso.coef_[lasso.coef_ == 0]), 'zeroed-out coefficient(s)')\n",
    "print('Polynomial Model Parameter Coefficients:',  len(lin.coef_[lin.coef_ != 0]), \n",
    "      'non-zero coefficient(s) and', len(lin.coef_[lin.coef_ == 0]), 'zeroed-out coefficient(s)')"
   ]
  },
  {
   "cell_type": "code",
   "execution_count": 19,
   "id": "a3bc7c5f",
   "metadata": {},
   "outputs": [
    {
     "name": "stdout",
     "output_type": "stream",
     "text": [
      "0.8219397854069759\n"
     ]
    }
   ],
   "source": [
    "# Printing the R2 score for my Ridge Model with Polynomial features\n",
    "r2 = r2_score(y_true = y_test, y_pred = y_h_ridge_test)\n",
    "print(r2)"
   ]
  },
  {
   "cell_type": "code",
   "execution_count": 20,
   "id": "95d0f3e6",
   "metadata": {},
   "outputs": [
    {
     "name": "stdout",
     "output_type": "stream",
     "text": [
      "31.494699327022627\n"
     ]
    }
   ],
   "source": [
    "# Printing the MAE for my Ridge Model with Polynomial features\n",
    "mae = mean_absolute_error(y_test, y_h_ridge_test)\n",
    "print(mae)"
   ]
  },
  {
   "cell_type": "markdown",
   "id": "cb7c8a68",
   "metadata": {},
   "source": [
    "**Brief Summary of First Model**: After tuning this model several times using different methods, I was able to improve the R2 score of my model to .82 using a ridge model with polynomial features."
   ]
  },
  {
   "cell_type": "markdown",
   "id": "e9ab7053",
   "metadata": {},
   "source": [
    "   "
   ]
  },
  {
   "cell_type": "markdown",
   "id": "a275622e",
   "metadata": {},
   "source": [
    "## Model 2 - Predicting EVs per Capita by ZIP Code - Categorical Classifier"
   ]
  },
  {
   "cell_type": "markdown",
   "id": "3eac5bed",
   "metadata": {},
   "source": [
    "This second model is a categorical classifier where, instead of predicting the total number of EV registrations in a zip code, I am predicting the number of EV registrations per capita (number of EVs per 100,000 people).  The target is separated into three categories: (1) if a zip code has a below-average number of EVs per 100k, (2) if a zip code has an above average number of EVs per 100k, and (3) if a zip code has a very high number of EVs per capita.  I determined these targets after analyzing the spread of my target variable below."
   ]
  },
  {
   "cell_type": "code",
   "execution_count": 21,
   "id": "1365d93a",
   "metadata": {},
   "outputs": [
    {
     "name": "stdout",
     "output_type": "stream",
     "text": [
      "Median EVs per capita in Data Set: 606.3505135880629\n"
     ]
    },
    {
     "data": {
      "image/png": "[encoded data removed]",
      "text/plain": [
       "<Figure size 640x480 with 1 Axes>"
      ]
     },
     "metadata": {},
     "output_type": "display_data"
    }
   ],
   "source": [
    "df['EVs per capita'].hist(bins=100).set(Title='EVs per Capita Across Zip Codes')\n",
    "print(\"Median EVs per capita in Data Set:\", df['EVs per capita'].median());"
   ]
  },
  {
   "cell_type": "code",
   "execution_count": 22,
   "id": "91ca3066",
   "metadata": {},
   "outputs": [],
   "source": [
    "y = df['High EVs Per Capita']\n",
    "X = df[['Median Family Household Income', 'Population', 'Percent Pop. Bachelors Deg. - 35-44', \n",
    "            'dist_NYC', 'high_pop', 'voted for joe', 'in_NYC', 'EV Charging Stations', 'NY', 'CT', 'High_Income', \n",
    "           'Young_Liberal', 'Income_Liberal', 'Income_Pop', 'Ed_Income', 'NYC Suburb']]"
   ]
  },
  {
   "cell_type": "code",
   "execution_count": 23,
   "id": "8d21b0bb",
   "metadata": {},
   "outputs": [],
   "source": [
    "X_train, X_test, y_train, y_test = train_test_split(X, y, test_size=.3, random_state=42)"
   ]
  },
  {
   "cell_type": "code",
   "execution_count": 24,
   "id": "ed00bf46",
   "metadata": {},
   "outputs": [],
   "source": [
    "# Build a pipeline with StandardScaler and RandomForestClassifier\n",
    "scaled_pipeline_2 = Pipeline([('scaler', StandardScaler()), ('RF', RandomForestClassifier(random_state = 42))])"
   ]
  },
  {
   "cell_type": "code",
   "execution_count": 25,
   "id": "1c7df99b",
   "metadata": {},
   "outputs": [
    {
     "name": "stdout",
     "output_type": "stream",
     "text": [
      "Accuracy Score of Training Data: 1.0\n",
      "Accuracy Score of Test Data: 0.8089171974522293\n"
     ]
    }
   ],
   "source": [
    "# Fit the training data to pipeline\n",
    "scaled_pipeline_2.fit(X_train, y_train)\n",
    "\n",
    "# Print the accuracy on test set\n",
    "print(\"Accuracy Score of Training Data:\", scaled_pipeline_2.score(X_train, y_train))\n",
    "print(\"Accuracy Score of Test Data:\", scaled_pipeline_2.score(X_test, y_test))"
   ]
  },
  {
   "cell_type": "code",
   "execution_count": 26,
   "id": "0197ecab",
   "metadata": {},
   "outputs": [
    {
     "data": {
      "image/png": "[encoded data removed]",
      "text/plain": [
       "<Figure size 800x800 with 2 Axes>"
      ]
     },
     "metadata": {},
     "output_type": "display_data"
    }
   ],
   "source": [
    "fig, ax = plt.subplots(figsize=(8,8))\n",
    "plt.grid(False)\n",
    "ConfusionMatrixDisplay.from_estimator(scaled_pipeline_2, X_test, y_test, ax=ax, cmap=\"cividis\");"
   ]
  },
  {
   "cell_type": "code",
   "execution_count": 27,
   "id": "2c7a66f5",
   "metadata": {},
   "outputs": [
    {
     "data": {
      "text/plain": [
       "[('Median Family Household Income', 0.20642528703808735),\n",
       " ('Population', 0.09235287517595413),\n",
       " ('Percent Pop. Bachelors Deg. - 35-44', 0.17540072321157374),\n",
       " ('dist_NYC', 0.09937218819082277),\n",
       " ('high_pop', 0.0074307076318807395),\n",
       " ('voted for joe', 0.006824299989202888),\n",
       " ('in_NYC', 0.02098860425306901),\n",
       " ('EV Charging Stations', 0.028353097540015488),\n",
       " ('NY', 0.013718195800866107),\n",
       " ('CT', 0.0052916085869727045),\n",
       " ('High_Income', 0.012766875015535507),\n",
       " ('Young_Liberal', 0.05141155902133118),\n",
       " ('Income_Liberal', 0.10008011413325027),\n",
       " ('Income_Pop', 0.08150967307847817),\n",
       " ('Ed_Income', 0.07951325473727516),\n",
       " ('NYC Suburb', 0.018560936595684745)]"
      ]
     },
     "execution_count": 27,
     "metadata": {},
     "output_type": "execute_result"
    }
   ],
   "source": [
    "# Finding Feature Importance from Our Random Forest Model\n",
    "importances = scaled_pipeline_2.named_steps['RF'].feature_importances_\n",
    "\n",
    "# Creating List of Tuples with Feature Names and Importances\n",
    "feature_importances = [(feature, importance) for feature, importance in zip(X.columns, importances)]\n",
    "feature_importances"
   ]
  },
  {
   "cell_type": "markdown",
   "id": "f170d64e",
   "metadata": {},
   "source": [
    "   "
   ]
  },
  {
   "cell_type": "markdown",
   "id": "ca3f1925",
   "metadata": {},
   "source": [
    "## Model 3 - Predicting Rise EVs per Capita by ZIP Code in 2022 - Linear Regression"
   ]
  },
  {
   "cell_type": "markdown",
   "id": "99db1fc8",
   "metadata": {},
   "source": [
    "My last model predicts the rise of EVs Added by ZIP code in 2022.  Historically there has been a trend of early adoption of EVs by wealthier individuals, by limiting this target to EV adoption in 2022, we are aiming to see if median family household income is still the most important factor that leads to EV adoption, or if other factors are now at play.\n",
    "\n",
    "**Note**: The goal of this model is not to receive a high R2, but to understand how the features used in my main linear regression model differ in terms of signficance and importance with my model on EVs Added in 2022.  The goal is to see if the factors that have historically impacted EV adoption were the same in 2022."
   ]
  },
  {
   "cell_type": "code",
   "execution_count": 28,
   "id": "f29a4104",
   "metadata": {},
   "outputs": [],
   "source": [
    "df_time['EVs Added in 2022'] = df_time['Vehicle Count_x'] - df_time['Vehicle Count_y']"
   ]
  },
  {
   "cell_type": "code",
   "execution_count": 29,
   "id": "06ea1616",
   "metadata": {},
   "outputs": [],
   "source": [
    "y = df_time['EVs Added in 2022']\n",
    "X = df_time[['Median Family Household Income', 'Population', 'Percent Pop. Bachelors Deg. - 35-44', \n",
    "            'dist_NYC', 'high_pop', 'voted for joe', 'in_NYC', 'EV Charging Stations',\n",
    "            'Percent Pop. Age 25-29', 'Percent Pop. Age 30-34', 'Percent Pop. Age 35-39', 'High_Income', \n",
    "           'Young_Liberal', 'Income_Liberal', 'Income_Pop', 'Ed_Income', 'NYC Suburb']]"
   ]
  },
  {
   "cell_type": "code",
   "execution_count": 30,
   "id": "467d14c1",
   "metadata": {},
   "outputs": [],
   "source": [
    "model = sm.OLS(y, sm.add_constant(X))"
   ]
  },
  {
   "cell_type": "code",
   "execution_count": 31,
   "id": "a704b89d",
   "metadata": {},
   "outputs": [],
   "source": [
    "results = model.fit()"
   ]
  },
  {
   "cell_type": "code",
   "execution_count": 32,
   "id": "97fccb13",
   "metadata": {},
   "outputs": [
    {
     "data": {
      "text/html": [
       "<table class=\"simpletable\">\n",
       "<caption>OLS Regression Results</caption>\n",
       "<tr>\n",
       "  <th>Dep. Variable:</th>    <td>EVs Added in 2022</td> <th>  R-squared:         </th> <td>   0.590</td> \n",
       "</tr>\n",
       "<tr>\n",
       "  <th>Model:</th>                   <td>OLS</td>        <th>  Adj. R-squared:    </th> <td>   0.587</td> \n",
       "</tr>\n",
       "<tr>\n",
       "  <th>Method:</th>             <td>Least Squares</td>   <th>  F-statistic:       </th> <td>   240.6</td> \n",
       "</tr>\n",
       "<tr>\n",
       "  <th>Date:</th>             <td>Tue, 01 Aug 2023</td>  <th>  Prob (F-statistic):</th>  <td>  0.00</td>  \n",
       "</tr>\n",
       "<tr>\n",
       "  <th>Time:</th>                 <td>14:00:55</td>      <th>  Log-Likelihood:    </th> <td> -13454.</td> \n",
       "</tr>\n",
       "<tr>\n",
       "  <th>No. Observations:</th>      <td>  2862</td>       <th>  AIC:               </th> <td>2.694e+04</td>\n",
       "</tr>\n",
       "<tr>\n",
       "  <th>Df Residuals:</th>          <td>  2844</td>       <th>  BIC:               </th> <td>2.705e+04</td>\n",
       "</tr>\n",
       "<tr>\n",
       "  <th>Df Model:</th>              <td>    17</td>       <th>                     </th>     <td> </td>    \n",
       "</tr>\n",
       "<tr>\n",
       "  <th>Covariance Type:</th>      <td>nonrobust</td>     <th>                     </th>     <td> </td>    \n",
       "</tr>\n",
       "</table>\n",
       "<table class=\"simpletable\">\n",
       "<tr>\n",
       "                   <td></td>                      <th>coef</th>     <th>std err</th>      <th>t</th>      <th>P>|t|</th>  <th>[0.025</th>    <th>0.975]</th>  \n",
       "</tr>\n",
       "<tr>\n",
       "  <th>const</th>                               <td>   -9.3794</td> <td>    4.153</td> <td>   -2.259</td> <td> 0.024</td> <td>  -17.522</td> <td>   -1.237</td>\n",
       "</tr>\n",
       "<tr>\n",
       "  <th>Median Family Household Income</th>      <td> 8.387e-05</td> <td> 3.21e-05</td> <td>    2.613</td> <td> 0.009</td> <td> 2.09e-05</td> <td>    0.000</td>\n",
       "</tr>\n",
       "<tr>\n",
       "  <th>Population</th>                          <td>    0.0006</td> <td> 8.76e-05</td> <td>    6.940</td> <td> 0.000</td> <td>    0.000</td> <td>    0.001</td>\n",
       "</tr>\n",
       "<tr>\n",
       "  <th>Percent Pop. Bachelors Deg. - 35-44</th> <td>    0.3289</td> <td>    0.035</td> <td>    9.490</td> <td> 0.000</td> <td>    0.261</td> <td>    0.397</td>\n",
       "</tr>\n",
       "<tr>\n",
       "  <th>dist_NYC</th>                            <td>   -0.0144</td> <td>    0.005</td> <td>   -3.102</td> <td> 0.002</td> <td>   -0.024</td> <td>   -0.005</td>\n",
       "</tr>\n",
       "<tr>\n",
       "  <th>high_pop</th>                            <td>   14.6475</td> <td>    1.537</td> <td>    9.531</td> <td> 0.000</td> <td>   11.634</td> <td>   17.661</td>\n",
       "</tr>\n",
       "<tr>\n",
       "  <th>voted for joe</th>                       <td>    3.2915</td> <td>    4.202</td> <td>    0.783</td> <td> 0.433</td> <td>   -4.948</td> <td>   11.531</td>\n",
       "</tr>\n",
       "<tr>\n",
       "  <th>in_NYC</th>                              <td>  -35.9370</td> <td>    2.340</td> <td>  -15.356</td> <td> 0.000</td> <td>  -40.526</td> <td>  -31.348</td>\n",
       "</tr>\n",
       "<tr>\n",
       "  <th>EV Charging Stations</th>                <td>    0.5488</td> <td>    0.149</td> <td>    3.684</td> <td> 0.000</td> <td>    0.257</td> <td>    0.841</td>\n",
       "</tr>\n",
       "<tr>\n",
       "  <th>Percent Pop. Age 25-29</th>              <td>   -0.4318</td> <td>    0.283</td> <td>   -1.525</td> <td> 0.127</td> <td>   -0.987</td> <td>    0.123</td>\n",
       "</tr>\n",
       "<tr>\n",
       "  <th>Percent Pop. Age 30-34</th>              <td>   -0.9122</td> <td>    0.211</td> <td>   -4.320</td> <td> 0.000</td> <td>   -1.326</td> <td>   -0.498</td>\n",
       "</tr>\n",
       "<tr>\n",
       "  <th>Percent Pop. Age 35-39</th>              <td>    0.3256</td> <td>    0.220</td> <td>    1.478</td> <td> 0.140</td> <td>   -0.106</td> <td>    0.757</td>\n",
       "</tr>\n",
       "<tr>\n",
       "  <th>High_Income</th>                         <td>  -16.3217</td> <td>    3.154</td> <td>   -5.174</td> <td> 0.000</td> <td>  -22.507</td> <td>  -10.137</td>\n",
       "</tr>\n",
       "<tr>\n",
       "  <th>Young_Liberal</th>                       <td>   -1.2457</td> <td>    0.367</td> <td>   -3.390</td> <td> 0.001</td> <td>   -1.966</td> <td>   -0.525</td>\n",
       "</tr>\n",
       "<tr>\n",
       "  <th>Income_Liberal</th>                      <td> 6.555e-05</td> <td> 3.01e-05</td> <td>    2.181</td> <td> 0.029</td> <td> 6.63e-06</td> <td>    0.000</td>\n",
       "</tr>\n",
       "<tr>\n",
       "  <th>Income_Pop</th>                          <td> 6.441e-09</td> <td> 1.18e-09</td> <td>    5.446</td> <td> 0.000</td> <td> 4.12e-09</td> <td> 8.76e-09</td>\n",
       "</tr>\n",
       "<tr>\n",
       "  <th>Ed_Income</th>                           <td>-4.434e-09</td> <td> 7.28e-09</td> <td>   -0.609</td> <td> 0.543</td> <td>-1.87e-08</td> <td> 9.85e-09</td>\n",
       "</tr>\n",
       "<tr>\n",
       "  <th>NYC Suburb</th>                          <td>    1.4941</td> <td>    1.650</td> <td>    0.905</td> <td> 0.365</td> <td>   -1.741</td> <td>    4.730</td>\n",
       "</tr>\n",
       "</table>\n",
       "<table class=\"simpletable\">\n",
       "<tr>\n",
       "  <th>Omnibus:</th>       <td>1895.946</td> <th>  Durbin-Watson:     </th> <td>   0.973</td> \n",
       "</tr>\n",
       "<tr>\n",
       "  <th>Prob(Omnibus):</th>  <td> 0.000</td>  <th>  Jarque-Bera (JB):  </th> <td>52143.270</td>\n",
       "</tr>\n",
       "<tr>\n",
       "  <th>Skew:</th>           <td> 2.719</td>  <th>  Prob(JB):          </th> <td>    0.00</td> \n",
       "</tr>\n",
       "<tr>\n",
       "  <th>Kurtosis:</th>       <td>23.191</td>  <th>  Cond. No.          </th> <td>3.09e+10</td> \n",
       "</tr>\n",
       "</table><br/><br/>Notes:<br/>[1] Standard Errors assume that the covariance matrix of the errors is correctly specified.<br/>[2] The condition number is large, 3.09e+10. This might indicate that there are<br/>strong multicollinearity or other numerical problems."
      ],
      "text/latex": [
       "\\begin{center}\n",
       "\\begin{tabular}{lclc}\n",
       "\\toprule\n",
       "\\textbf{Dep. Variable:}                      & EVs Added in 2022 & \\textbf{  R-squared:         } &     0.590   \\\\\n",
       "\\textbf{Model:}                              &        OLS        & \\textbf{  Adj. R-squared:    } &     0.587   \\\\\n",
       "\\textbf{Method:}                             &   Least Squares   & \\textbf{  F-statistic:       } &     240.6   \\\\\n",
       "\\textbf{Date:}                               &  Tue, 01 Aug 2023 & \\textbf{  Prob (F-statistic):} &     0.00    \\\\\n",
       "\\textbf{Time:}                               &      14:00:55     & \\textbf{  Log-Likelihood:    } &   -13454.   \\\\\n",
       "\\textbf{No. Observations:}                   &         2862      & \\textbf{  AIC:               } & 2.694e+04   \\\\\n",
       "\\textbf{Df Residuals:}                       &         2844      & \\textbf{  BIC:               } & 2.705e+04   \\\\\n",
       "\\textbf{Df Model:}                           &           17      & \\textbf{                     } &             \\\\\n",
       "\\textbf{Covariance Type:}                    &     nonrobust     & \\textbf{                     } &             \\\\\n",
       "\\bottomrule\n",
       "\\end{tabular}\n",
       "\\begin{tabular}{lcccccc}\n",
       "                                             & \\textbf{coef} & \\textbf{std err} & \\textbf{t} & \\textbf{P$> |$t$|$} & \\textbf{[0.025} & \\textbf{0.975]}  \\\\\n",
       "\\midrule\n",
       "\\textbf{const}                               &      -9.3794  &        4.153     &    -2.259  &         0.024        &      -17.522    &       -1.237     \\\\\n",
       "\\textbf{Median Family Household Income}      &    8.387e-05  &     3.21e-05     &     2.613  &         0.009        &     2.09e-05    &        0.000     \\\\\n",
       "\\textbf{Population}                          &       0.0006  &     8.76e-05     &     6.940  &         0.000        &        0.000    &        0.001     \\\\\n",
       "\\textbf{Percent Pop. Bachelors Deg. - 35-44} &       0.3289  &        0.035     &     9.490  &         0.000        &        0.261    &        0.397     \\\\\n",
       "\\textbf{dist\\_NYC}                           &      -0.0144  &        0.005     &    -3.102  &         0.002        &       -0.024    &       -0.005     \\\\\n",
       "\\textbf{high\\_pop}                           &      14.6475  &        1.537     &     9.531  &         0.000        &       11.634    &       17.661     \\\\\n",
       "\\textbf{voted for joe}                       &       3.2915  &        4.202     &     0.783  &         0.433        &       -4.948    &       11.531     \\\\\n",
       "\\textbf{in\\_NYC}                             &     -35.9370  &        2.340     &   -15.356  &         0.000        &      -40.526    &      -31.348     \\\\\n",
       "\\textbf{EV Charging Stations}                &       0.5488  &        0.149     &     3.684  &         0.000        &        0.257    &        0.841     \\\\\n",
       "\\textbf{Percent Pop. Age 25-29}              &      -0.4318  &        0.283     &    -1.525  &         0.127        &       -0.987    &        0.123     \\\\\n",
       "\\textbf{Percent Pop. Age 30-34}              &      -0.9122  &        0.211     &    -4.320  &         0.000        &       -1.326    &       -0.498     \\\\\n",
       "\\textbf{Percent Pop. Age 35-39}              &       0.3256  &        0.220     &     1.478  &         0.140        &       -0.106    &        0.757     \\\\\n",
       "\\textbf{High\\_Income}                        &     -16.3217  &        3.154     &    -5.174  &         0.000        &      -22.507    &      -10.137     \\\\\n",
       "\\textbf{Young\\_Liberal}                      &      -1.2457  &        0.367     &    -3.390  &         0.001        &       -1.966    &       -0.525     \\\\\n",
       "\\textbf{Income\\_Liberal}                     &    6.555e-05  &     3.01e-05     &     2.181  &         0.029        &     6.63e-06    &        0.000     \\\\\n",
       "\\textbf{Income\\_Pop}                         &    6.441e-09  &     1.18e-09     &     5.446  &         0.000        &     4.12e-09    &     8.76e-09     \\\\\n",
       "\\textbf{Ed\\_Income}                          &   -4.434e-09  &     7.28e-09     &    -0.609  &         0.543        &    -1.87e-08    &     9.85e-09     \\\\\n",
       "\\textbf{NYC Suburb}                          &       1.4941  &        1.650     &     0.905  &         0.365        &       -1.741    &        4.730     \\\\\n",
       "\\bottomrule\n",
       "\\end{tabular}\n",
       "\\begin{tabular}{lclc}\n",
       "\\textbf{Omnibus:}       & 1895.946 & \\textbf{  Durbin-Watson:     } &     0.973  \\\\\n",
       "\\textbf{Prob(Omnibus):} &   0.000  & \\textbf{  Jarque-Bera (JB):  } & 52143.270  \\\\\n",
       "\\textbf{Skew:}          &   2.719  & \\textbf{  Prob(JB):          } &      0.00  \\\\\n",
       "\\textbf{Kurtosis:}      &  23.191  & \\textbf{  Cond. No.          } &  3.09e+10  \\\\\n",
       "\\bottomrule\n",
       "\\end{tabular}\n",
       "%\\caption{OLS Regression Results}\n",
       "\\end{center}\n",
       "\n",
       "Notes: \\newline\n",
       " [1] Standard Errors assume that the covariance matrix of the errors is correctly specified. \\newline\n",
       " [2] The condition number is large, 3.09e+10. This might indicate that there are \\newline\n",
       " strong multicollinearity or other numerical problems."
      ],
      "text/plain": [
       "<class 'statsmodels.iolib.summary.Summary'>\n",
       "\"\"\"\n",
       "                            OLS Regression Results                            \n",
       "==============================================================================\n",
       "Dep. Variable:      EVs Added in 2022   R-squared:                       0.590\n",
       "Model:                            OLS   Adj. R-squared:                  0.587\n",
       "Method:                 Least Squares   F-statistic:                     240.6\n",
       "Date:                Tue, 01 Aug 2023   Prob (F-statistic):               0.00\n",
       "Time:                        14:00:55   Log-Likelihood:                -13454.\n",
       "No. Observations:                2862   AIC:                         2.694e+04\n",
       "Df Residuals:                    2844   BIC:                         2.705e+04\n",
       "Df Model:                          17                                         \n",
       "Covariance Type:            nonrobust                                         \n",
       "=======================================================================================================\n",
       "                                          coef    std err          t      P>|t|      [0.025      0.975]\n",
       "-------------------------------------------------------------------------------------------------------\n",
       "const                                  -9.3794      4.153     -2.259      0.024     -17.522      -1.237\n",
       "Median Family Household Income       8.387e-05   3.21e-05      2.613      0.009    2.09e-05       0.000\n",
       "Population                              0.0006   8.76e-05      6.940      0.000       0.000       0.001\n",
       "Percent Pop. Bachelors Deg. - 35-44     0.3289      0.035      9.490      0.000       0.261       0.397\n",
       "dist_NYC                               -0.0144      0.005     -3.102      0.002      -0.024      -0.005\n",
       "high_pop                               14.6475      1.537      9.531      0.000      11.634      17.661\n",
       "voted for joe                           3.2915      4.202      0.783      0.433      -4.948      11.531\n",
       "in_NYC                                -35.9370      2.340    -15.356      0.000     -40.526     -31.348\n",
       "EV Charging Stations                    0.5488      0.149      3.684      0.000       0.257       0.841\n",
       "Percent Pop. Age 25-29                 -0.4318      0.283     -1.525      0.127      -0.987       0.123\n",
       "Percent Pop. Age 30-34                 -0.9122      0.211     -4.320      0.000      -1.326      -0.498\n",
       "Percent Pop. Age 35-39                  0.3256      0.220      1.478      0.140      -0.106       0.757\n",
       "High_Income                           -16.3217      3.154     -5.174      0.000     -22.507     -10.137\n",
       "Young_Liberal                          -1.2457      0.367     -3.390      0.001      -1.966      -0.525\n",
       "Income_Liberal                       6.555e-05   3.01e-05      2.181      0.029    6.63e-06       0.000\n",
       "Income_Pop                           6.441e-09   1.18e-09      5.446      0.000    4.12e-09    8.76e-09\n",
       "Ed_Income                           -4.434e-09   7.28e-09     -0.609      0.543   -1.87e-08    9.85e-09\n",
       "NYC Suburb                              1.4941      1.650      0.905      0.365      -1.741       4.730\n",
       "==============================================================================\n",
       "Omnibus:                     1895.946   Durbin-Watson:                   0.973\n",
       "Prob(Omnibus):                  0.000   Jarque-Bera (JB):            52143.270\n",
       "Skew:                           2.719   Prob(JB):                         0.00\n",
       "Kurtosis:                      23.191   Cond. No.                     3.09e+10\n",
       "==============================================================================\n",
       "\n",
       "Notes:\n",
       "[1] Standard Errors assume that the covariance matrix of the errors is correctly specified.\n",
       "[2] The condition number is large, 3.09e+10. This might indicate that there are\n",
       "strong multicollinearity or other numerical problems.\n",
       "\"\"\""
      ]
     },
     "execution_count": 32,
     "metadata": {},
     "output_type": "execute_result"
    }
   ],
   "source": [
    "results.summary()"
   ]
  },
  {
   "cell_type": "code",
   "execution_count": 33,
   "id": "19d299e4",
   "metadata": {},
   "outputs": [],
   "source": [
    "X_train, X_test, y_train, y_test = train_test_split(X, y, test_size=.3, random_state=42)"
   ]
  },
  {
   "cell_type": "code",
   "execution_count": 34,
   "id": "4d7a52cb",
   "metadata": {},
   "outputs": [],
   "source": [
    "ss = StandardScaler()\n",
    "\n",
    "ss.fit(X_train)\n",
    "X_standardized_train = ss.transform(X_train)\n",
    "X_standardized_test = ss.transform(X_test)"
   ]
  },
  {
   "cell_type": "code",
   "execution_count": 35,
   "id": "57285fa8",
   "metadata": {},
   "outputs": [
    {
     "data": {
      "text/plain": [
       "0.5855071957165068"
      ]
     },
     "execution_count": 35,
     "metadata": {},
     "output_type": "execute_result"
    }
   ],
   "source": [
    "lr_raw = LinearRegression()\n",
    "lr_raw.fit(X_standardized_train, y_train)\n",
    "lr_raw.score(X_standardized_train, y_train)"
   ]
  },
  {
   "cell_type": "code",
   "execution_count": 36,
   "id": "53550afb",
   "metadata": {},
   "outputs": [
    {
     "data": {
      "text/plain": [
       "Median Family Household Income          4.655399\n",
       "Population                             13.620309\n",
       "Percent Pop. Bachelors Deg. - 35-44     7.155934\n",
       "dist_NYC                               -1.679538\n",
       "high_pop                                6.834764\n",
       "voted for joe                           0.917543\n",
       "in_NYC                                -10.214834\n",
       "EV Charging Stations                    2.485814\n",
       "Percent Pop. Age 25-29                 -1.548359\n",
       "Percent Pop. Age 30-34                 -2.352228\n",
       "Percent Pop. Age 35-39                  1.102323\n",
       "High_Income                            -3.571138\n",
       "Young_Liberal                          -4.924282\n",
       "Income_Liberal                          5.042764\n",
       "Income_Pop                             13.964499\n",
       "Ed_Income                              -1.613094\n",
       "NYC Suburb                              0.144795\n",
       "dtype: float64"
      ]
     },
     "execution_count": 36,
     "metadata": {},
     "output_type": "execute_result"
    }
   ],
   "source": [
    "pd.Series(lr_raw.coef_, index = X.columns)"
   ]
  },
  {
   "cell_type": "markdown",
   "id": "1ccbfbd0",
   "metadata": {},
   "source": [
    "## Summary - Comparing Model 1 and Model 3\n",
    "\n",
    "It's important to note the difference in the importance of each scaled coefficient in Model 1 compared against Model 3.  Model 1 highlights the socioeconomic features that affect the total number of EVs currently in a ZIP code from the inception of EVs to present, whereas Model 3 highlights those that affected the growth of EVs in a ZIP code in 2022.  The smaller R2 and limited size of the coefficients in Model 3 using the same features tells us that income is no longer a leading factor in the adoption of EVs.  As we would assume with a contemporary internal combustion engine (ICE) vehicle, the population of a zip code is now the factor that most affects EV adoption.  Though this is difficult to interpret, we may be able to suggest that EV adoption is beginning to become more equitable, and not limited to a small number of demographics."
   ]
  },
  {
   "cell_type": "code",
   "execution_count": null,
   "id": "19e3ae09",
   "metadata": {},
   "outputs": [],
   "source": []
  }
 ],
 "metadata": {
  "kernelspec": {
   "display_name": "Python (learn-env)",
   "language": "python",
   "name": "learn-env"
  },
  "language_info": {
   "codemirror_mode": {
    "name": "ipython",
    "version": 3
   },
   "file_extension": ".py",
   "mimetype": "text/x-python",
   "name": "python",
   "nbconvert_exporter": "python",
   "pygments_lexer": "ipython3",
   "version": "3.8.5"
  }
 },
 "nbformat": 4,
 "nbformat_minor": 5
}
